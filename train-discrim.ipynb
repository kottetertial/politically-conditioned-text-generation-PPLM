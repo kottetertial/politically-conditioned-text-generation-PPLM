{
 "cells": [
  {
   "cell_type": "code",
   "execution_count": 28,
   "metadata": {
    "cellId": "krpypsioanbmeilph90r6",
    "colab": {
     "base_uri": "https://localhost:8080/"
    },
    "id": "eataQc1SgGDM",
    "outputId": "f37c87a6-b402-4ac2-c8a4-1ef772afdcd6",
    "pycharm": {
     "name": "#%%\n"
    }
   },
   "outputs": [
    {
     "name": "stdout",
     "output_type": "stream",
     "text": [
      "Defaulting to user installation because normal site-packages is not writeable\n",
      "Collecting torch==1.7.0\n",
      "  Downloading torch-1.7.0-cp38-cp38-manylinux1_x86_64.whl (776.8 MB)\n",
      "     |████████████████████████████████| 776.8 MB 26 bytes/s            \n",
      "\u001B[?25hRequirement already satisfied: nltk==3.4.5 in /usr/local/lib/python3.8/dist-packages (from -r PPLM/requirements.txt (line 2)) (3.4.5)\n",
      "Requirement already satisfied: colorama==0.4.4 in /usr/local/lib/python3.8/dist-packages (from -r PPLM/requirements.txt (line 3)) (0.4.4)\n",
      "Collecting transformers==3.4.0\n",
      "  Downloading transformers-3.4.0-py3-none-any.whl (1.3 MB)\n",
      "     |████████████████████████████████| 1.3 MB 115.4 MB/s            \n",
      "\u001B[?25hCollecting torchtext==0.3.1\n",
      "  Downloading torchtext-0.3.1-py3-none-any.whl (62 kB)\n",
      "     |████████████████████████████████| 62 kB 1.3 MB/s             \n",
      "\u001B[?25hRequirement already satisfied: numpy in /kernel/fallback/lib/python3.8/site-packages (from torch==1.7.0->-r PPLM/requirements.txt (line 1)) (1.19.4)\n",
      "Requirement already satisfied: dataclasses in /usr/local/lib/python3.8/dist-packages (from torch==1.7.0->-r PPLM/requirements.txt (line 1)) (0.6)\n",
      "Requirement already satisfied: future in /usr/local/lib/python3.8/dist-packages (from torch==1.7.0->-r PPLM/requirements.txt (line 1)) (0.18.2)\n",
      "Requirement already satisfied: typing-extensions in /usr/local/lib/python3.8/dist-packages (from torch==1.7.0->-r PPLM/requirements.txt (line 1)) (3.7.4.3)\n",
      "Requirement already satisfied: six in /kernel/lib/python3.8/site-packages (from nltk==3.4.5->-r PPLM/requirements.txt (line 2)) (1.16.0)\n",
      "Requirement already satisfied: packaging in /kernel/lib/python3.8/site-packages (from transformers==3.4.0->-r PPLM/requirements.txt (line 4)) (20.9)\n",
      "Requirement already satisfied: protobuf in /usr/local/lib/python3.8/dist-packages (from transformers==3.4.0->-r PPLM/requirements.txt (line 4)) (3.19.1)\n",
      "Requirement already satisfied: regex!=2019.12.17 in /usr/local/lib/python3.8/dist-packages (from transformers==3.4.0->-r PPLM/requirements.txt (line 4)) (2021.11.10)\n",
      "Collecting sentencepiece!=0.1.92\n",
      "  Downloading sentencepiece-0.1.96-cp38-cp38-manylinux_2_17_x86_64.manylinux2014_x86_64.whl (1.2 MB)\n",
      "     |████████████████████████████████| 1.2 MB 90.2 MB/s            \n",
      "\u001B[?25hRequirement already satisfied: sacremoses in /usr/local/lib/python3.8/dist-packages (from transformers==3.4.0->-r PPLM/requirements.txt (line 4)) (0.0.46)\n",
      "Requirement already satisfied: tqdm>=4.27 in /usr/local/lib/python3.8/dist-packages (from transformers==3.4.0->-r PPLM/requirements.txt (line 4)) (4.50.0)\n",
      "Requirement already satisfied: requests in /kernel/lib/python3.8/site-packages (from transformers==3.4.0->-r PPLM/requirements.txt (line 4)) (2.25.1)\n",
      "Requirement already satisfied: filelock in /usr/local/lib/python3.8/dist-packages (from transformers==3.4.0->-r PPLM/requirements.txt (line 4)) (3.4.2)\n",
      "Collecting tokenizers==0.9.2\n",
      "  Downloading tokenizers-0.9.2-cp38-cp38-manylinux1_x86_64.whl (2.9 MB)\n",
      "     |████████████████████████████████| 2.9 MB 67.3 MB/s            \n",
      "\u001B[?25hRequirement already satisfied: pyparsing>=2.0.2 in /kernel/lib/python3.8/site-packages (from packaging->transformers==3.4.0->-r PPLM/requirements.txt (line 4)) (2.4.7)\n",
      "Requirement already satisfied: chardet<5,>=3.0.2 in /kernel/lib/python3.8/site-packages (from requests->transformers==3.4.0->-r PPLM/requirements.txt (line 4)) (4.0.0)\n",
      "Requirement already satisfied: certifi>=2017.4.17 in /kernel/lib/python3.8/site-packages (from requests->transformers==3.4.0->-r PPLM/requirements.txt (line 4)) (2021.10.8)\n",
      "Requirement already satisfied: idna<3,>=2.5 in /kernel/lib/python3.8/site-packages (from requests->transformers==3.4.0->-r PPLM/requirements.txt (line 4)) (2.10)\n",
      "Requirement already satisfied: urllib3<1.27,>=1.21.1 in /kernel/lib/python3.8/site-packages (from requests->transformers==3.4.0->-r PPLM/requirements.txt (line 4)) (1.26.9)\n",
      "Requirement already satisfied: click in /usr/local/lib/python3.8/dist-packages (from sacremoses->transformers==3.4.0->-r PPLM/requirements.txt (line 4)) (8.0.3)\n",
      "Requirement already satisfied: joblib in /usr/local/lib/python3.8/dist-packages (from sacremoses->transformers==3.4.0->-r PPLM/requirements.txt (line 4)) (1.1.0)\n",
      "Installing collected packages: torch, tokenizers, sentencepiece, transformers, torchtext\n",
      "\u001B[33m  WARNING: The scripts convert-caffe2-to-onnx and convert-onnx-to-caffe2 are installed in '/home/jupyter/.local/bin' which is not on PATH.\n",
      "  Consider adding this directory to PATH or, if you prefer to suppress this warning, use --no-warn-script-location.\u001B[0m\n",
      "\u001B[33m  WARNING: The script transformers-cli is installed in '/home/jupyter/.local/bin' which is not on PATH.\n",
      "  Consider adding this directory to PATH or, if you prefer to suppress this warning, use --no-warn-script-location.\u001B[0m\n",
      "\u001B[31mERROR: pip's dependency resolver does not currently take into account all the packages that are installed. This behaviour is the source of the following dependency conflicts.\n",
      "torchvision 0.10.1+cu111 requires torch==1.9.1, but you have torch 1.7.0 which is incompatible.\n",
      "torchaudio 0.9.1 requires torch==1.9.1, but you have torch 1.7.0 which is incompatible.\u001B[0m\n",
      "Successfully installed sentencepiece-0.1.96 tokenizers-0.9.2 torch-1.7.0 torchtext-0.3.1 transformers-3.4.0\n",
      "\u001B[33mWARNING: You are using pip version 21.3.1; however, version 22.1 is available.\n",
      "You should consider upgrading via the '/usr/local/bin/python3 -m pip install --upgrade pip' command.\u001B[0m\n"
     ]
    }
   ],
   "source": [
    "%pip install -r requirements.txt"
   ]
  },
  {
   "cell_type": "code",
   "execution_count": 115,
   "metadata": {
    "cellId": "xopg31gdvkrhm9826kbgs7",
    "id": "v7wsXUmXhnCA",
    "pycharm": {
     "name": "#%%\n"
    }
   },
   "outputs": [],
   "source": [
    "import pandas as pd"
   ]
  },
  {
   "cell_type": "code",
   "execution_count": 116,
   "metadata": {
    "cellId": "rgm75hwx5hn8e06jxpa41j",
    "colab": {
     "base_uri": "https://localhost:8080/",
     "height": 206
    },
    "id": "4kkMjsDduykA",
    "outputId": "a05fba0f-c18a-41c1-c415-7b651ba366ee",
    "pycharm": {
     "name": "#%%\n"
    }
   },
   "outputs": [
    {
     "data": {
      "text/html": [
       "<div>\n",
       "<style scoped>\n",
       "    .dataframe tbody tr th:only-of-type {\n",
       "        vertical-align: middle;\n",
       "    }\n",
       "\n",
       "    .dataframe tbody tr th {\n",
       "        vertical-align: top;\n",
       "    }\n",
       "\n",
       "    .dataframe thead th {\n",
       "        text-align: right;\n",
       "    }\n",
       "</style>\n",
       "<table border=\"1\" class=\"dataframe\">\n",
       "  <thead>\n",
       "    <tr style=\"text-align: right;\">\n",
       "      <th></th>\n",
       "      <th>label</th>\n",
       "      <th>text</th>\n",
       "    </tr>\n",
       "  </thead>\n",
       "  <tbody>\n",
       "    <tr>\n",
       "      <th>0</th>\n",
       "      <td>Liberal</td>\n",
       "      <td>Thank you! [applause] Thank you! [applause] Th...</td>\n",
       "    </tr>\n",
       "    <tr>\n",
       "      <th>1</th>\n",
       "      <td>Liberal</td>\n",
       "      <td>and I thought I was doing pretty well until we...</td>\n",
       "    </tr>\n",
       "    <tr>\n",
       "      <th>2</th>\n",
       "      <td>Liberal</td>\n",
       "      <td>More to the point, by the time I met her she h...</td>\n",
       "    </tr>\n",
       "    <tr>\n",
       "      <th>3</th>\n",
       "      <td>Liberal</td>\n",
       "      <td>[applause]...she went to South Carolina to see...</td>\n",
       "    </tr>\n",
       "    <tr>\n",
       "      <th>4</th>\n",
       "      <td>Liberal</td>\n",
       "      <td>And when she did, the people at the law school...</td>\n",
       "    </tr>\n",
       "  </tbody>\n",
       "</table>\n",
       "</div>"
      ],
      "text/plain": [
       "     label                                               text\n",
       "0  Liberal  Thank you! [applause] Thank you! [applause] Th...\n",
       "1  Liberal  and I thought I was doing pretty well until we...\n",
       "2  Liberal  More to the point, by the time I met her she h...\n",
       "3  Liberal  [applause]...she went to South Carolina to see...\n",
       "4  Liberal  And when she did, the people at the law school..."
      ]
     },
     "execution_count": 116,
     "metadata": {},
     "output_type": "execute_result"
    }
   ],
   "source": [
    "dataset = pd.read_csv(\"dataset_512.tsv\", sep=\"\\t\", header=None, names=[\"label\", \"text\"])\n",
    "dataset.head()"
   ]
  },
  {
   "cell_type": "code",
   "execution_count": 126,
   "metadata": {
    "cellId": "hgsgz31lhjiquctz603v4",
    "id": "U4KEH1UHuwD0",
    "pycharm": {
     "name": "#%%\n"
    }
   },
   "outputs": [],
   "source": [
    "data_sampled = pd.concat(objs=[dataset[dataset.label == 'Liberal'].sample(n=80000, random_state=42), \n",
    "                               dataset[dataset.label == 'Conservative'].sample(n=80000, random_state=42)])"
   ]
  },
  {
   "cell_type": "code",
   "execution_count": null,
   "metadata": {
    "cellId": "g2bz3q34hv8cvai4hyvhx",
    "id": "xAoeeRJy1n3_",
    "pycharm": {
     "name": "#%%\n"
    }
   },
   "outputs": [],
   "source": [
    "data_sampled.to_csv(\"dataset_512_train_160k.tsv\", sep=\"\\t\", index=False, header=False)"
   ]
  },
  {
   "cell_type": "code",
   "execution_count": 127,
   "metadata": {
    "cellId": "ve2acr23dyg518h85ea5ey",
    "id": "OrcZhjqK4Uh7",
    "pycharm": {
     "name": "#%%\n"
    }
   },
   "outputs": [],
   "source": [
    "#!g1.1\n",
    "from run_pplm_discrim_train import train_discriminator"
   ]
  },
  {
   "cell_type": "code",
   "execution_count": 129,
   "metadata": {
    "cellId": "qyq7d8s1hshqm5awi0mmlk",
    "pycharm": {
     "name": "#%%\n"
    }
   },
   "outputs": [
    {
     "name": "stderr",
     "output_type": "stream",
     "text": [
      "160000it [00:05, 29676.22it/s]\n",
      "160000it [04:47, 557.30it/s]\n"
     ]
    },
    {
     "name": "stdout",
     "output_type": "stream",
     "text": [
      "Preprocessing generic dataset...\n",
      "Preprocessed 160000 data points\n",
      "Data preprocessing took: 308.641s\n",
      "\n",
      "Epoch 1\n",
      "Train Epoch: 1 [128/144000 (0%)]\tLoss: 3.271867\n",
      "Train Epoch: 1 [16512/144000 (11%)]\tLoss: 0.600420\n",
      "Train Epoch: 1 [32896/144000 (23%)]\tLoss: 0.502098\n",
      "Train Epoch: 1 [49280/144000 (34%)]\tLoss: 0.503613\n",
      "Train Epoch: 1 [65664/144000 (46%)]\tLoss: 0.516779\n",
      "Train Epoch: 1 [82048/144000 (57%)]\tLoss: 0.533724\n",
      "Train Epoch: 1 [98432/144000 (68%)]\tLoss: 0.522634\n",
      "Train Epoch: 1 [114816/144000 (80%)]\tLoss: 0.539873\n",
      "Train Epoch: 1 [131200/144000 (91%)]\tLoss: 0.507526\n",
      "Performance on test set: Average loss: 0.5427, Accuracy: 11499/16000 (72%)\n",
      "Epoch took: 5561.820s\n",
      "\n",
      "Example prediction\n",
      "Input sentence: Hate and fear are being given too much oxygen by those who pretend to love America, but who don’t understand America. To confront the ideology of hate requires caring about all people. That’s the America I know: the most diverse, multi-racial, dynamic nation in history.\n",
      "Predictions: Conservative: 0.6339, Liberal: 0.3661\n",
      "\n",
      "Epoch 2\n",
      "Train Epoch: 2 [128/144000 (0%)]\tLoss: 0.506792\n",
      "Train Epoch: 2 [16512/144000 (11%)]\tLoss: 0.489751\n",
      "Train Epoch: 2 [32896/144000 (23%)]\tLoss: 0.599926\n",
      "Train Epoch: 2 [49280/144000 (34%)]\tLoss: 0.483038\n",
      "Train Epoch: 2 [65664/144000 (46%)]\tLoss: 0.440231\n",
      "Train Epoch: 2 [82048/144000 (57%)]\tLoss: 0.479663\n",
      "Train Epoch: 2 [98432/144000 (68%)]\tLoss: 0.597858\n",
      "Train Epoch: 2 [114816/144000 (80%)]\tLoss: 0.590961\n",
      "Train Epoch: 2 [131200/144000 (91%)]\tLoss: 0.618204\n",
      "Performance on test set: Average loss: 0.4937, Accuracy: 12102/16000 (76%)\n",
      "Epoch took: 5564.049s\n",
      "\n",
      "Example prediction\n",
      "Input sentence: Hate and fear are being given too much oxygen by those who pretend to love America, but who don’t understand America. To confront the ideology of hate requires caring about all people. That’s the America I know: the most diverse, multi-racial, dynamic nation in history.\n",
      "Predictions: Conservative: 0.7759, Liberal: 0.2241\n",
      "\n",
      "Epoch 3\n",
      "Train Epoch: 3 [128/144000 (0%)]\tLoss: 0.530893\n",
      "Train Epoch: 3 [16512/144000 (11%)]\tLoss: 0.530325\n",
      "Train Epoch: 3 [32896/144000 (23%)]\tLoss: 0.477380\n",
      "Train Epoch: 3 [49280/144000 (34%)]\tLoss: 0.573122\n",
      "Train Epoch: 3 [65664/144000 (46%)]\tLoss: 0.462522\n",
      "Train Epoch: 3 [82048/144000 (57%)]\tLoss: 0.600557\n",
      "Train Epoch: 3 [98432/144000 (68%)]\tLoss: 0.492644\n",
      "Train Epoch: 3 [114816/144000 (80%)]\tLoss: 0.411876\n",
      "Train Epoch: 3 [131200/144000 (91%)]\tLoss: 0.495345\n",
      "Performance on test set: Average loss: 0.5178, Accuracy: 11877/16000 (74%)\n",
      "Epoch took: 5566.043s\n",
      "\n",
      "Example prediction\n",
      "Input sentence: Hate and fear are being given too much oxygen by those who pretend to love America, but who don’t understand America. To confront the ideology of hate requires caring about all people. That’s the America I know: the most diverse, multi-racial, dynamic nation in history.\n",
      "Predictions: Conservative: 0.6287, Liberal: 0.3713\n",
      "\n",
      "Epoch 4\n",
      "Train Epoch: 4 [128/144000 (0%)]\tLoss: 0.590540\n",
      "Train Epoch: 4 [16512/144000 (11%)]\tLoss: 0.525471\n",
      "Train Epoch: 4 [32896/144000 (23%)]\tLoss: 0.486422\n",
      "Train Epoch: 4 [49280/144000 (34%)]\tLoss: 0.573464\n",
      "Train Epoch: 4 [65664/144000 (46%)]\tLoss: 0.492263\n",
      "Train Epoch: 4 [82048/144000 (57%)]\tLoss: 0.487958\n",
      "Train Epoch: 4 [98432/144000 (68%)]\tLoss: 0.538670\n",
      "Train Epoch: 4 [114816/144000 (80%)]\tLoss: 0.516034\n",
      "Train Epoch: 4 [131200/144000 (91%)]\tLoss: 0.649340\n",
      "Performance on test set: Average loss: 0.4881, Accuracy: 12165/16000 (76%)\n",
      "Epoch took: 5565.850s\n",
      "\n",
      "Example prediction\n",
      "Input sentence: Hate and fear are being given too much oxygen by those who pretend to love America, but who don’t understand America. To confront the ideology of hate requires caring about all people. That’s the America I know: the most diverse, multi-racial, dynamic nation in history.\n",
      "Predictions: Conservative: 0.6572, Liberal: 0.3428\n",
      "\n",
      "Epoch 5\n",
      "Train Epoch: 5 [128/144000 (0%)]\tLoss: 0.520022\n",
      "Train Epoch: 5 [16512/144000 (11%)]\tLoss: 0.501734\n",
      "Train Epoch: 5 [32896/144000 (23%)]\tLoss: 0.445742\n",
      "Train Epoch: 5 [49280/144000 (34%)]\tLoss: 0.656589\n",
      "Train Epoch: 5 [65664/144000 (46%)]\tLoss: 0.517506\n",
      "Train Epoch: 5 [82048/144000 (57%)]\tLoss: 0.564287\n",
      "Train Epoch: 5 [98432/144000 (68%)]\tLoss: 0.491733\n",
      "Train Epoch: 5 [114816/144000 (80%)]\tLoss: 0.500463\n",
      "Train Epoch: 5 [131200/144000 (91%)]\tLoss: 0.514174\n",
      "Performance on test set: Average loss: 0.4863, Accuracy: 12229/16000 (76%)\n",
      "Epoch took: 5565.672s\n",
      "\n",
      "Example prediction\n",
      "Input sentence: Hate and fear are being given too much oxygen by those who pretend to love America, but who don’t understand America. To confront the ideology of hate requires caring about all people. That’s the America I know: the most diverse, multi-racial, dynamic nation in history.\n",
      "Predictions: Conservative: 0.7287, Liberal: 0.2713\n",
      "Test performance per epoch\n",
      "epoch\tloss\tacc\n",
      "1\t0.542734881401062\t0.7186875\n",
      "2\t0.49368212509155274\t0.756375\n",
      "3\t0.5177851824760437\t0.7423125\n",
      "4\t0.4881094288825989\t0.7603125\n",
      "5\t0.48633833408355714\t0.7643125\n",
      "Min loss: 0.48633833408355714 - Epoch: 5\n",
      "Max acc: 0.7643125 - Epoch: 5\n"
     ]
    }
   ],
   "source": [
    "#!g1.1\n",
    "discrim_args = {\n",
    "    \"dataset\": \"generic\",\n",
    "    \"dataset_fp\": \"dataset_512_train_160k.tsv\",\n",
    "    \"epochs\": 5,\n",
    "    \"batch_size\": 128,\n",
    "    \"learning_rate\": 0.005,\n",
    "    \"log_interval\": 128,\n",
    "    \"save_model\": \"True\",\n",
    "    \"output_fp\": \"political_classificationhead_5_0005_160.pt\"\n",
    "}\n",
    "\n",
    "discriminator, discriminator_meta = train_discriminator(**discrim_args)"
   ]
  },
  {
   "cell_type": "code",
   "execution_count": 69,
   "metadata": {
    "cellId": "3fn8rbz7kkpyb6ewg7y2t",
    "pycharm": {
     "name": "#%%\n"
    }
   },
   "outputs": [],
   "source": [
    "import torch\n",
    "from pplm_classification_head import ClassificationHead"
   ]
  },
  {
   "cell_type": "code",
   "execution_count": 85,
   "metadata": {
    "cellId": "8twyrwyhaib17t734xoy4l",
    "pycharm": {
     "name": "#%%\n"
    }
   },
   "outputs": [
    {
     "data": {
      "text/plain": [
       "ClassificationHead(\n",
       "  (mlp): Linear(in_features=1024, out_features=2, bias=True)\n",
       ")"
      ]
     },
     "execution_count": 85,
     "metadata": {},
     "output_type": "execute_result"
    }
   ],
   "source": [
    "#!g1.1\n",
    "model = ClassificationHead(2, 1024)\n",
    "model.load_state_dict(torch.load(\"political_classificationhead_5_0005_160.pt/generic_classifier_head_epoch_5.pt\"))\n",
    "model.eval()"
   ]
  }
 ],
 "metadata": {
  "accelerator": "GPU",
  "colab": {
   "collapsed_sections": [],
   "name": "Untitled0.ipynb",
   "provenance": []
  },
  "kernelspec": {
   "display_name": "Yandex DataSphere Kernel",
   "language": "python",
   "name": "python3"
  },
  "language_info": {
   "codemirror_mode": {
    "name": "ipython",
    "version": 3
   },
   "file_extension": ".py",
   "mimetype": "text/x-python",
   "name": "python",
   "nbconvert_exporter": "python",
   "pygments_lexer": "ipython3",
   "version": "3.7.7"
  },
  "notebookId": "cf889e7f-703c-40ec-88a5-c45beb87b6b3",
  "notebookPath": "train-discrim.ipynb",
  "widgets": {
   "application/vnd.jupyter.widget-state+json": {
    "24272089739241a8974051e0443bd4f5": {
     "model_module": "@jupyter-widgets/base",
     "model_module_version": "1.2.0",
     "model_name": "LayoutModel",
     "state": {
      "_model_module": "@jupyter-widgets/base",
      "_model_module_version": "1.2.0",
      "_model_name": "LayoutModel",
      "_view_count": null,
      "_view_module": "@jupyter-widgets/base",
      "_view_module_version": "1.2.0",
      "_view_name": "LayoutView",
      "align_content": null,
      "align_items": null,
      "align_self": null,
      "border": null,
      "bottom": null,
      "display": null,
      "flex": null,
      "flex_flow": null,
      "grid_area": null,
      "grid_auto_columns": null,
      "grid_auto_flow": null,
      "grid_auto_rows": null,
      "grid_column": null,
      "grid_gap": null,
      "grid_row": null,
      "grid_template_areas": null,
      "grid_template_columns": null,
      "grid_template_rows": null,
      "height": null,
      "justify_content": null,
      "justify_items": null,
      "left": null,
      "margin": null,
      "max_height": null,
      "max_width": null,
      "min_height": null,
      "min_width": null,
      "object_fit": null,
      "object_position": null,
      "order": null,
      "overflow": null,
      "overflow_x": null,
      "overflow_y": null,
      "padding": null,
      "right": null,
      "top": null,
      "visibility": null,
      "width": null
     }
    },
    "3c7857b57a694829bf43366eb6bb054a": {
     "model_module": "@jupyter-widgets/controls",
     "model_module_version": "1.5.0",
     "model_name": "HBoxModel",
     "state": {
      "_dom_classes": [],
      "_model_module": "@jupyter-widgets/controls",
      "_model_module_version": "1.5.0",
      "_model_name": "HBoxModel",
      "_view_count": null,
      "_view_module": "@jupyter-widgets/controls",
      "_view_module_version": "1.5.0",
      "_view_name": "HBoxView",
      "box_style": "",
      "children": [
       "IPY_MODEL_40bf40cf03cc43939c48ec4d06e1c857",
       "IPY_MODEL_65698abda85a497eaaacf7009da65af6",
       "IPY_MODEL_ac353361597248acad62236220ce7bd1"
      ],
      "layout": "IPY_MODEL_f1ebc9ba25f940ee9a167643011c419e"
     }
    },
    "40bf40cf03cc43939c48ec4d06e1c857": {
     "model_module": "@jupyter-widgets/controls",
     "model_module_version": "1.5.0",
     "model_name": "HTMLModel",
     "state": {
      "_dom_classes": [],
      "_model_module": "@jupyter-widgets/controls",
      "_model_module_version": "1.5.0",
      "_model_name": "HTMLModel",
      "_view_count": null,
      "_view_module": "@jupyter-widgets/controls",
      "_view_module_version": "1.5.0",
      "_view_name": "HTMLView",
      "description": "",
      "description_tooltip": null,
      "layout": "IPY_MODEL_d9a3337b4e3c4e0b92cda38521737447",
      "placeholder": "​",
      "style": "IPY_MODEL_984f163e9699435bb497993e0c0571ac",
      "value": "100%"
     }
    },
    "4bd0805a6c0f453da2fc9b175e8ff049": {
     "model_module": "@jupyter-widgets/controls",
     "model_module_version": "1.5.0",
     "model_name": "DescriptionStyleModel",
     "state": {
      "_model_module": "@jupyter-widgets/controls",
      "_model_module_version": "1.5.0",
      "_model_name": "DescriptionStyleModel",
      "_view_count": null,
      "_view_module": "@jupyter-widgets/base",
      "_view_module_version": "1.2.0",
      "_view_name": "StyleView",
      "description_width": ""
     }
    },
    "65698abda85a497eaaacf7009da65af6": {
     "model_module": "@jupyter-widgets/controls",
     "model_module_version": "1.5.0",
     "model_name": "FloatProgressModel",
     "state": {
      "_dom_classes": [],
      "_model_module": "@jupyter-widgets/controls",
      "_model_module_version": "1.5.0",
      "_model_name": "FloatProgressModel",
      "_view_count": null,
      "_view_module": "@jupyter-widgets/controls",
      "_view_module_version": "1.5.0",
      "_view_name": "ProgressView",
      "bar_style": "success",
      "description": "",
      "description_tooltip": null,
      "layout": "IPY_MODEL_24272089739241a8974051e0443bd4f5",
      "max": 315368,
      "min": 0,
      "orientation": "horizontal",
      "style": "IPY_MODEL_a6293db01500404eb14d984c0c146747",
      "value": 315368
     }
    },
    "984f163e9699435bb497993e0c0571ac": {
     "model_module": "@jupyter-widgets/controls",
     "model_module_version": "1.5.0",
     "model_name": "DescriptionStyleModel",
     "state": {
      "_model_module": "@jupyter-widgets/controls",
      "_model_module_version": "1.5.0",
      "_model_name": "DescriptionStyleModel",
      "_view_count": null,
      "_view_module": "@jupyter-widgets/base",
      "_view_module_version": "1.2.0",
      "_view_name": "StyleView",
      "description_width": ""
     }
    },
    "a6293db01500404eb14d984c0c146747": {
     "model_module": "@jupyter-widgets/controls",
     "model_module_version": "1.5.0",
     "model_name": "ProgressStyleModel",
     "state": {
      "_model_module": "@jupyter-widgets/controls",
      "_model_module_version": "1.5.0",
      "_model_name": "ProgressStyleModel",
      "_view_count": null,
      "_view_module": "@jupyter-widgets/base",
      "_view_module_version": "1.2.0",
      "_view_name": "StyleView",
      "bar_color": null,
      "description_width": ""
     }
    },
    "ac353361597248acad62236220ce7bd1": {
     "model_module": "@jupyter-widgets/controls",
     "model_module_version": "1.5.0",
     "model_name": "HTMLModel",
     "state": {
      "_dom_classes": [],
      "_model_module": "@jupyter-widgets/controls",
      "_model_module_version": "1.5.0",
      "_model_name": "HTMLModel",
      "_view_count": null,
      "_view_module": "@jupyter-widgets/controls",
      "_view_module_version": "1.5.0",
      "_view_name": "HTMLView",
      "description": "",
      "description_tooltip": null,
      "layout": "IPY_MODEL_bfb78813721642fabaffcaff09851393",
      "placeholder": "​",
      "style": "IPY_MODEL_4bd0805a6c0f453da2fc9b175e8ff049",
      "value": " 315368/315368 [11:17&lt;00:00, 432.88it/s]"
     }
    },
    "bfb78813721642fabaffcaff09851393": {
     "model_module": "@jupyter-widgets/base",
     "model_module_version": "1.2.0",
     "model_name": "LayoutModel",
     "state": {
      "_model_module": "@jupyter-widgets/base",
      "_model_module_version": "1.2.0",
      "_model_name": "LayoutModel",
      "_view_count": null,
      "_view_module": "@jupyter-widgets/base",
      "_view_module_version": "1.2.0",
      "_view_name": "LayoutView",
      "align_content": null,
      "align_items": null,
      "align_self": null,
      "border": null,
      "bottom": null,
      "display": null,
      "flex": null,
      "flex_flow": null,
      "grid_area": null,
      "grid_auto_columns": null,
      "grid_auto_flow": null,
      "grid_auto_rows": null,
      "grid_column": null,
      "grid_gap": null,
      "grid_row": null,
      "grid_template_areas": null,
      "grid_template_columns": null,
      "grid_template_rows": null,
      "height": null,
      "justify_content": null,
      "justify_items": null,
      "left": null,
      "margin": null,
      "max_height": null,
      "max_width": null,
      "min_height": null,
      "min_width": null,
      "object_fit": null,
      "object_position": null,
      "order": null,
      "overflow": null,
      "overflow_x": null,
      "overflow_y": null,
      "padding": null,
      "right": null,
      "top": null,
      "visibility": null,
      "width": null
     }
    },
    "d9a3337b4e3c4e0b92cda38521737447": {
     "model_module": "@jupyter-widgets/base",
     "model_module_version": "1.2.0",
     "model_name": "LayoutModel",
     "state": {
      "_model_module": "@jupyter-widgets/base",
      "_model_module_version": "1.2.0",
      "_model_name": "LayoutModel",
      "_view_count": null,
      "_view_module": "@jupyter-widgets/base",
      "_view_module_version": "1.2.0",
      "_view_name": "LayoutView",
      "align_content": null,
      "align_items": null,
      "align_self": null,
      "border": null,
      "bottom": null,
      "display": null,
      "flex": null,
      "flex_flow": null,
      "grid_area": null,
      "grid_auto_columns": null,
      "grid_auto_flow": null,
      "grid_auto_rows": null,
      "grid_column": null,
      "grid_gap": null,
      "grid_row": null,
      "grid_template_areas": null,
      "grid_template_columns": null,
      "grid_template_rows": null,
      "height": null,
      "justify_content": null,
      "justify_items": null,
      "left": null,
      "margin": null,
      "max_height": null,
      "max_width": null,
      "min_height": null,
      "min_width": null,
      "object_fit": null,
      "object_position": null,
      "order": null,
      "overflow": null,
      "overflow_x": null,
      "overflow_y": null,
      "padding": null,
      "right": null,
      "top": null,
      "visibility": null,
      "width": null
     }
    },
    "f1ebc9ba25f940ee9a167643011c419e": {
     "model_module": "@jupyter-widgets/base",
     "model_module_version": "1.2.0",
     "model_name": "LayoutModel",
     "state": {
      "_model_module": "@jupyter-widgets/base",
      "_model_module_version": "1.2.0",
      "_model_name": "LayoutModel",
      "_view_count": null,
      "_view_module": "@jupyter-widgets/base",
      "_view_module_version": "1.2.0",
      "_view_name": "LayoutView",
      "align_content": null,
      "align_items": null,
      "align_self": null,
      "border": null,
      "bottom": null,
      "display": null,
      "flex": null,
      "flex_flow": null,
      "grid_area": null,
      "grid_auto_columns": null,
      "grid_auto_flow": null,
      "grid_auto_rows": null,
      "grid_column": null,
      "grid_gap": null,
      "grid_row": null,
      "grid_template_areas": null,
      "grid_template_columns": null,
      "grid_template_rows": null,
      "height": null,
      "justify_content": null,
      "justify_items": null,
      "left": null,
      "margin": null,
      "max_height": null,
      "max_width": null,
      "min_height": null,
      "min_width": null,
      "object_fit": null,
      "object_position": null,
      "order": null,
      "overflow": null,
      "overflow_x": null,
      "overflow_y": null,
      "padding": null,
      "right": null,
      "top": null,
      "visibility": null,
      "width": null
     }
    }
   }
  }
 },
 "nbformat": 4,
 "nbformat_minor": 4
}