{
 "cells": [
  {
   "cell_type": "code",
   "execution_count": null,
   "outputs": [],
   "source": [
    "from run_pplm import run_pplm_example"
   ],
   "metadata": {
    "collapsed": false,
    "pycharm": {
     "name": "#%%\n"
    }
   }
  },
  {
   "cell_type": "code",
   "execution_count": 167,
   "outputs": [
    {
     "name": "stdout",
     "output_type": "stream",
     "text": [
      "Error in callback <bound method MLKernel._post_run_cell of <__main__.MLKernel object at 0x7f1cd0e83910>> (for post_run_cell):\n"
     ]
    },
    {
     "name": "stderr",
     "output_type": "stream",
     "text": [
      "Internal error. Results of this cell may be lost. Please contact support.\n"
     ]
    },
    {
     "ename": "Exception",
     "evalue": "Unknown interval name: execute/run_cell",
     "output_type": "error",
     "traceback": [
      "\u001B[0;31m---------------------------------------------------------------------------\u001B[0m",
      "\u001B[0;31mException\u001B[0m                                 Traceback (most recent call last)",
      "\u001B[0;32m/kernel/lib/python3.8/site-packages/ml_kernel/kernel.py\u001B[0m in \u001B[0;36m_post_run_cell\u001B[0;34m(self, result)\u001B[0m\n\u001B[1;32m    818\u001B[0m                 \u001B[0mself\u001B[0m\u001B[0;34m.\u001B[0m\u001B[0m_protocol\u001B[0m\u001B[0;34m.\u001B[0m\u001B[0msend_changes\u001B[0m\u001B[0;34m,\u001B[0m \u001B[0mself\u001B[0m\u001B[0;34m.\u001B[0m\u001B[0m_parent_header\u001B[0m\u001B[0;34m[\u001B[0m\u001B[0;34m'header'\u001B[0m\u001B[0;34m]\u001B[0m\u001B[0;34m,\u001B[0m \u001B[0;34m[\u001B[0m\u001B[0;34m]\u001B[0m\u001B[0;34m,\u001B[0m \u001B[0mself\u001B[0m\u001B[0;34m.\u001B[0m\u001B[0m_parent_ident\u001B[0m\u001B[0;34m\u001B[0m\u001B[0;34m\u001B[0m\u001B[0m\n\u001B[1;32m    819\u001B[0m             ).result()\n\u001B[0;32m--> 820\u001B[0;31m             \u001B[0;32mraise\u001B[0m \u001B[0me\u001B[0m  \u001B[0;31m# propagate exception to user\u001B[0m\u001B[0;34m\u001B[0m\u001B[0;34m\u001B[0m\u001B[0m\n\u001B[0m\u001B[1;32m    821\u001B[0m         \u001B[0;32mfinally\u001B[0m\u001B[0;34m:\u001B[0m\u001B[0;34m\u001B[0m\u001B[0;34m\u001B[0m\u001B[0m\n\u001B[1;32m    822\u001B[0m             \u001B[0mself\u001B[0m\u001B[0;34m.\u001B[0m\u001B[0m_execution_id\u001B[0m \u001B[0;34m=\u001B[0m \u001B[0;32mNone\u001B[0m\u001B[0;34m\u001B[0m\u001B[0;34m\u001B[0m\u001B[0m\n",
      "\u001B[0;32m/kernel/lib/python3.8/site-packages/ml_kernel/kernel.py\u001B[0m in \u001B[0;36m_post_run_cell\u001B[0;34m(self, result)\u001B[0m\n\u001B[1;32m    788\u001B[0m                 \u001B[0mos\u001B[0m\u001B[0;34m.\u001B[0m\u001B[0msync\u001B[0m\u001B[0;34m(\u001B[0m\u001B[0;34m)\u001B[0m\u001B[0;34m\u001B[0m\u001B[0;34m\u001B[0m\u001B[0m\n\u001B[1;32m    789\u001B[0m \u001B[0;34m\u001B[0m\u001B[0m\n\u001B[0;32m--> 790\u001B[0;31m                 \u001B[0mself\u001B[0m\u001B[0;34m.\u001B[0m\u001B[0m_execute_timings\u001B[0m\u001B[0;34m.\u001B[0m\u001B[0mend_interval\u001B[0m\u001B[0;34m(\u001B[0m\u001B[0mKnownIntervals\u001B[0m\u001B[0;34m.\u001B[0m\u001B[0mRUN_CELL\u001B[0m\u001B[0;34m)\u001B[0m\u001B[0;34m\u001B[0m\u001B[0;34m\u001B[0m\u001B[0m\n\u001B[0m\u001B[1;32m    791\u001B[0m                 \u001B[0mself\u001B[0m\u001B[0;34m.\u001B[0m\u001B[0m_execute_timings\u001B[0m\u001B[0;34m.\u001B[0m\u001B[0mstart_interval\u001B[0m\u001B[0;34m(\u001B[0m\u001B[0mKnownIntervals\u001B[0m\u001B[0;34m.\u001B[0m\u001B[0mPOST_RUN_CELL\u001B[0m\u001B[0;34m)\u001B[0m\u001B[0;34m\u001B[0m\u001B[0;34m\u001B[0m\u001B[0m\n\u001B[1;32m    792\u001B[0m \u001B[0;34m\u001B[0m\u001B[0m\n",
      "\u001B[0;32m/kernel/lib/python3.8/site-packages/ml_kernel/execute_timing.py\u001B[0m in \u001B[0;36mend_interval\u001B[0;34m(self, name, end_ts)\u001B[0m\n\u001B[1;32m     51\u001B[0m             \u001B[0mself\u001B[0m\u001B[0;34m.\u001B[0m\u001B[0madd_interval\u001B[0m\u001B[0;34m(\u001B[0m\u001B[0mname\u001B[0m\u001B[0;34m,\u001B[0m \u001B[0mstart_ts\u001B[0m\u001B[0;34m,\u001B[0m \u001B[0mend_ts\u001B[0m\u001B[0;34m)\u001B[0m\u001B[0;34m\u001B[0m\u001B[0;34m\u001B[0m\u001B[0m\n\u001B[1;32m     52\u001B[0m         \u001B[0;32melse\u001B[0m\u001B[0;34m:\u001B[0m\u001B[0;34m\u001B[0m\u001B[0;34m\u001B[0m\u001B[0m\n\u001B[0;32m---> 53\u001B[0;31m             \u001B[0;32mraise\u001B[0m \u001B[0mException\u001B[0m\u001B[0;34m(\u001B[0m\u001B[0;34m'Unknown interval name: '\u001B[0m \u001B[0;34m+\u001B[0m \u001B[0mname\u001B[0m\u001B[0;34m)\u001B[0m\u001B[0;34m\u001B[0m\u001B[0;34m\u001B[0m\u001B[0m\n\u001B[0m\u001B[1;32m     54\u001B[0m \u001B[0;34m\u001B[0m\u001B[0m\n\u001B[1;32m     55\u001B[0m     \u001B[0;32mdef\u001B[0m \u001B[0m__str__\u001B[0m\u001B[0;34m(\u001B[0m\u001B[0mself\u001B[0m\u001B[0;34m)\u001B[0m\u001B[0;34m:\u001B[0m\u001B[0;34m\u001B[0m\u001B[0;34m\u001B[0m\u001B[0m\n",
      "\u001B[0;31mException\u001B[0m: Unknown interval name: execute/run_cell"
     ]
    }
   ],
   "source": [
    "%%capture liberal --no-stderr\n",
    "gen_args = {\n",
    "    \"cond_text\": \"The hard truth is that\",\n",
    "    \"discrim\": \"generic\",\n",
    "    \"discrim_weights\": \"political_classificationhead_5_0005_160.pt/generic_classifier_head_epoch_5.pt\",\n",
    "    \"discrim_meta\": \"political_classificationhead_5_0005_160.pt/generic_classifier_head_meta.json\",\n",
    "    \"class_label\": \"Liberal\",\n",
    "    \"verbosity\": \"quiet\",\n",
    "    \"num_samples\": 5,\n",
    "    \"stepsize\": 0.008,\n",
    "    \"kl_scale\": 0.05,\n",
    "    \"gm_scale\": 0.8,\n",
    "    \"length\": 10\n",
    "}\n",
    "\n",
    "run_pplm_example(**gen_args)"
   ],
   "metadata": {
    "collapsed": false,
    "pycharm": {
     "name": "#%%\n"
    }
   }
  },
  {
   "cell_type": "code",
   "execution_count": 171,
   "outputs": [
    {
     "name": "stdout",
     "output_type": "stream",
     "text": [
      "= Prefix of sentence =\n",
      "<|endoftext|>The future of the 21st century economy is going to be\n",
      "\n",
      "= Unperturbed generated text =\n",
      "<|endoftext|>The future of the 21st century economy is going to be dominated by two kinds of technologies: Artificial Intelligence and robotics. The latter is going to replace humans at every level – the job market, the healthcare system, even the financial sector – and this means the future for the economy and society depends on it.\n",
      "\n",
      "There are three things we should be looking\n",
      "\n",
      "= Perturbed generated text 1 =\n",
      "<|endoftext|>The future of the 21st century economy is going to be powered by the Internet. The Internet of Things will make our lives easier, save us money and improve our quality-of-the..................................\n",
      "\n",
      "= Perturbed generated text 2 =\n",
      "<|endoftext|>The future of the 21st century economy is going to be made up of a lot of people. We're not going away, and it is going to happen.\n",
      "\n",
      "The American economy is a big deal. We are the largest economy in the world, and we have some of the most successful businesses on the planet. Our economic system is one of the\n",
      "\n",
      "= Perturbed generated text 3 =\n",
      "<|endoftext|>The future of the 21st century economy is going to be based not on what's in the future, or even the past, as much of a part of our lives as our phones.<|endoftext|>The UESCC CCCC CCC C C C C C CC C C C CC C C C C C C C CC\n",
      "\n",
      "= Perturbed generated text 4 =\n",
      "<|endoftext|>The future of the 21st century economy is going to be defined by how people spend their time online, says an independent analysis.\n",
      "The study, which was commissioned by Google and conducted by a firm called GfK, suggests that a future where people work out the cost of their leisure activities online will be very difficult.\n",
      "GfK said the number\n",
      "\n",
      "= Perturbed generated text 5 =\n",
      "<|endoftext|>The future of the 21st century economy is going to be driven by the rise of blockchain.\n",
      " In The The It This This The And In The In In The The In And For In What It The D I I In The/ I I In In The In It I I The In The It In It The In In The In The In The In What\n",
      "\n"
     ]
    }
   ],
   "source": [
    "%%capture conservative --no-stderr\n",
    "gen_args = {\n",
    "    \"cond_text\": \"The future of the 21st century economy is going to be\",\n",
    "    \"discrim\": \"generic\",\n",
    "    \"discrim_weights\": \"political_classificationhead_5_0005_160.pt/generic_classifier_head_epoch_5.pt\",\n",
    "    \"discrim_meta\": \"political_classificationhead_5_0005_160.pt/generic_classifier_head_meta.json\",\n",
    "    \"class_label\": \"Conservative\",\n",
    "    \"verbosity\": \"quiet\",\n",
    "    \"num_samples\": 5,\n",
    "    \"stepsize\": 0.008,\n",
    "    \"kl_scale\": 0.1,\n",
    "    \"gm_scale\": 0.8,\n",
    "    \"length\": 60\n",
    "}\n",
    "\n",
    "run_pplm_example(**gen_args)"
   ],
   "metadata": {
    "collapsed": false,
    "pycharm": {
     "name": "#%%\n"
    }
   }
  },
  {
   "cell_type": "code",
   "execution_count": 172,
   "outputs": [
    {
     "name": "stdout",
     "output_type": "stream",
     "text": [
      "= Prefix of sentence =\n",
      "<|endoftext|>The future of the 21st century economy is going to be\n",
      "\n",
      "= Unperturbed generated text =\n",
      "<|endoftext|>The future of the 21st century economy is going to be dominated by two kinds of technologies: Artificial Intelligence and robotics. The latter is going to replace humans at every level – the job market, the healthcare system, even the financial sector – and this means the future for the economy and society depends on it.\n",
      "\n",
      "There are three things we should be looking\n",
      "\n",
      "= Perturbed generated text 1 =\n",
      "<|endoftext|>The future of the 21st century economy is going to be dominated by the Internet. The reason that is is pretty obvious. The technology we have today is so great we are going to be able use it as much as we want. We have already started to use the Internet to get stuff done, get things done on time, make decisions faster, get stuff\n",
      "\n",
      "= Perturbed generated text 2 =\n",
      "<|endoftext|>The future of the 21st century economy is going to be dominated by technologies that allow computers to run more efficiently, and that will require more electricity, said Tesla Motors President and CEO Elon, who is also chairman and chief operating officer of the electric vehicle, battery and energy storage company.<|endoftext|>\"I don,\n",
      "\n",
      "/ of and on the\n",
      "/ in\n",
      "\n",
      "= Perturbed generated text 3 =\n",
      "<|endoftext|>The future of the 21st century economy is going to be based on robotics. That's according, as far as it can possibly go, of a new type of computer that could help solve a whole host of such, but in a much more sophisticated fashion, and with less of a human touch than it would have to be for, say, a robot to\n",
      "\n",
      "= Perturbed generated text 4 =\n",
      "<|endoftext|>The future of the 21st century economy is going to be defined by how people spend their money,\" says David Kamin, the chief executive of the Boston Consulting Global Center, a non profit organization that focuses on the economic future. His institute's research suggests that by 2025, the United States will be a world economy dominated by people and not the economy itself —\n",
      "\n",
      "= Perturbed generated text 5 =\n",
      "<|endoftext|>The future of the 21st century economy is going to be dominated by the rise of artificial intelligence — and it's up against a big, powerful competitor already: the blockchain. And while there are a lot of people interested in building something like blockchain, they're not sure if this technology is as good as what we have already. So let's take a deep\n",
      "\n"
     ]
    }
   ],
   "source": [
    "%%capture liberal --no-stderr\n",
    "gen_args = {\n",
    "    \"cond_text\": \"The future of the 21st century economy is going to be\",\n",
    "    \"discrim\": \"generic\",\n",
    "    \"discrim_weights\": \"political_classificationhead_5_0005_160.pt/generic_classifier_head_epoch_5.pt\",\n",
    "    \"discrim_meta\": \"political_classificationhead_5_0005_160.pt/generic_classifier_head_meta.json\",\n",
    "    \"class_label\": \"Liberal\",\n",
    "    \"verbosity\": \"quiet\",\n",
    "    \"num_samples\": 5,\n",
    "    \"stepsize\": 0.008,\n",
    "    \"kl_scale\": 0.1,\n",
    "    \"gm_scale\": 0.8,\n",
    "    \"length\": 60\n",
    "}\n",
    "\n",
    "run_pplm_example(**gen_args)"
   ],
   "metadata": {
    "collapsed": false,
    "pycharm": {
     "name": "#%%\n"
    }
   }
  },
  {
   "cell_type": "code",
   "execution_count": 173,
   "outputs": [
    {
     "name": "stdout",
     "output_type": "stream",
     "text": [
      "= Prefix of sentence =\n",
      "<|endoftext|>My administration will always fight for\n",
      "\n",
      "= Unperturbed generated text =\n",
      "<|endoftext|>My administration will always fight for the rights of all Texans, including the LGBT community,\" said Texas Gov. Greg Abbott in a statement on his Twitter account, calling on the U.S. Supreme Court to uphold Section 3 of the Defense of Marriage Act (DOMA).\n",
      "\n",
      "\"I will continue to fight for marriage equality and\n",
      "\n",
      "= Perturbed generated text 1 =\n",
      "<|endoftext|>My administration will always fight for our country. But we also have to be prepared for the consequences of a reckless foreign policy, if that foreign policy comes in the way that we know that it has come in the way where innocent lives have been taken.\n",
      "\n",
      "We will never forget what happened with respect to the families lost in Benghazi\n",
      "\n",
      "= Perturbed generated text 2 =\n",
      "<|endoftext|>My administration will always fight for all Americans. I am grateful to President Obama, Speaker Boehner, and Senate Majority Leader Mitch McConnell, and their staffs. I thank President Obama and my administration for standing up for us all.\n",
      " and I thank my administration for taking on so many new challenges over the last six years, and I\n",
      "\n",
      "= Perturbed generated text 3 =\n",
      "<|endoftext|>My administration will always fight for the middle class. That's why I've made raising taxes my number two priority, and making sure our tax code is fair. I'm proud of my tax plan because it will pay for itself, and will help the middle class.\n",
      "We need the middle class for economic growth, job creation,\n",
      "\n",
      "= Perturbed generated text 4 =\n",
      "<|endoftext|>My administration will always fight for every single American. I know there are many Americans in this room. There is no one who is not here for America. And I will never let up fighting for you.\"<|endoftext|>The new U.S. Navy destroyer USS Theodore K. Housman is pictured departing the dockyard at the Naval\n",
      "\n",
      "= Perturbed generated text 5 =\n",
      "<|endoftext|>My administration will always fight for our values. It will always stand with working families and those who are left behind, including people of color who have been ignored for too long. That includes protecting the rights of people who live in fear of police violence, especially when there are no laws to protect them.\n",
      ".....\n",
      "\n"
     ]
    }
   ],
   "source": [
    "%%capture conservative --no-stderr\n",
    "gen_args = {\n",
    "    \"cond_text\": \"My administration will always fight for\",\n",
    "    \"discrim\": \"generic\",\n",
    "    \"discrim_weights\": \"political_classificationhead_5_0005_160.pt/generic_classifier_head_epoch_5.pt\",\n",
    "    \"discrim_meta\": \"political_classificationhead_5_0005_160.pt/generic_classifier_head_meta.json\",\n",
    "    \"class_label\": \"Conservative\",\n",
    "    \"verbosity\": \"quiet\",\n",
    "    \"num_samples\": 5,\n",
    "    \"stepsize\": 0.008,\n",
    "    \"kl_scale\": 0.1,\n",
    "    \"gm_scale\": 0.8,\n",
    "    \"length\": 60\n",
    "}\n",
    "\n",
    "run_pplm_example(**gen_args)"
   ],
   "metadata": {
    "collapsed": false,
    "pycharm": {
     "name": "#%%\n"
    }
   }
  },
  {
   "cell_type": "code",
   "execution_count": 174,
   "outputs": [
    {
     "name": "stdout",
     "output_type": "stream",
     "text": [
      "= Prefix of sentence =\n",
      "<|endoftext|>My administration will always fight for\n",
      "\n",
      "= Unperturbed generated text =\n",
      "<|endoftext|>My administration will always fight for the rights of all Texans, including the LGBT community,\" said Texas Gov. Greg Abbott in a statement on his Twitter account, calling on the U.S. Supreme Court to uphold Section 3 of the Defense of Marriage Act (DOMA).\n",
      "\n",
      "\"I will continue to fight for marriage equality and\n",
      "\n",
      "= Perturbed generated text 1 =\n",
      "<|endoftext|>My administration will always fight for our country to protect its citizens from illegal drugs. That's the reason we created the Drug Enforcement Administration, to make it easier and faster to keep drugs off the streets. And I have been proud to work with our partners in law Enforcement,, the Drug Enforcement,,.\n",
      "\n",
      "The DEA will\n",
      "\n",
      "= Perturbed generated text 2 =\n",
      "<|endoftext|>My administration will always fight for all Americans. I am the President of all Americans, and we will never back down on our commitments.\" — Donald Trump\n",
      "<|endoftext|>InAUSD1210A2D1S1B1A1.10.5.10.2.12.12.10.4.1\n",
      "\n",
      "= Perturbed generated text 3 =\n",
      "<|endoftext|>My administration will always fight for the middle class. That's why I'm bringing back our jobs program and investing $10 trillion dollars in the American economy to create good jobs across America. I'm taking a page from Mitt Romney's playbook and bringing jobs to Wisconsin, Michigan, and Ohio to create good, middle class jobs here at\n",
      "\n",
      "= Perturbed generated text 4 =\n",
      "<|endoftext|>My administration will always fight for America and its people. We are the only administration in history to repeal discriminatory immigration laws, protect American workers and our environment, fight for the American middle class, expand opportunities for young people, and end taxpayer subsidies to private schools, including voucher programs for the poor.\n",
      "In order to help the most\n",
      "\n",
      "= Perturbed generated text 5 =\n",
      "<|endoftext|>My administration will always fight for our families – not just for those in poverty and the underprivfpvvftjjvvjvvjjvjpvfjfjjvfffjjvjjvvjvjjjvvvjjpv\n",
      "\n"
     ]
    }
   ],
   "source": [
    "%%capture liberal --no-stderr\n",
    "gen_args = {\n",
    "    \"cond_text\": \"My administration will always fight for\",\n",
    "    \"discrim\": \"generic\",\n",
    "    \"discrim_weights\": \"political_classificationhead_5_0005_160.pt/generic_classifier_head_epoch_5.pt\",\n",
    "    \"discrim_meta\": \"political_classificationhead_5_0005_160.pt/generic_classifier_head_meta.json\",\n",
    "    \"class_label\": \"Liberal\",\n",
    "    \"verbosity\": \"quiet\",\n",
    "    \"num_samples\": 5,\n",
    "    \"stepsize\": 0.008,\n",
    "    \"kl_scale\": 0.1,\n",
    "    \"gm_scale\": 0.8,\n",
    "    \"length\": 60\n",
    "}\n",
    "\n",
    "run_pplm_example(**gen_args)"
   ],
   "metadata": {
    "collapsed": false,
    "pycharm": {
     "name": "#%%\n"
    }
   }
  },
  {
   "cell_type": "code",
   "execution_count": 175,
   "outputs": [
    {
     "name": "stdout",
     "output_type": "stream",
     "text": [
      "= Prefix of sentence =\n",
      "<|endoftext|>Together, we can end\n",
      "\n",
      "= Unperturbed generated text =\n",
      "<|endoftext|>Together, we can end the scourge of sexual harassment and assault on campus, as well as the violence against women at our school and all across the country.\n",
      "\n",
      "As students, we are committed to fighting sexual violence on college campuses.\n",
      "\n",
      "Our campus safety and wellness programs are focused on providing safe and healthy housing for our\n",
      "\n",
      "= Perturbed generated text 1 =\n",
      "<|endoftext|>Together, we can end child abuse.\n",
      "\n",
      "Together we can end child sexual exploitation.\n",
      "\n",
      "Together we can end rape and violence against women in our own country.<|endoftext|>A new study from the UVA Center for Human Biology shows that when the brains of male, healthy young adults are exposed to a video-based simulation\n",
      "\n",
      "= Perturbed generated text 2 =\n",
      "<|endoftext|>Together, we can end climate change.\n",
      ", the co-founder of 350.org, said, \" this is the time to act, now, and not wait to take action. We can stop the dangerous fossil fuel economy from harming humanity, the planet, and the planet. We have been waiting for this for far\n",
      "\n",
      "= Perturbed generated text 3 =\n",
      "<|endoftext|>Together, we can end this crisis and bring an era of prosperity, peace, and freedom to all the world's people.\n",
      "The world must not only be freed from poverty, but all of the world will be liberated from poverty and war.<|endoftext|>The United Nations (United Nations), in cooperation of the World Food Security Organization\n",
      "\n",
      "= Perturbed generated text 4 =\n",
      "<|endoftext|>Together, we can end poverty and hunger. Together we can make sure that our children grow up in a world of opportunity and opportunity. Together we can stop the cycle. And together we can stop this madness.\n",
      "\n",
      "This page is dedicated to all of our loved, who are fighting this fight for us.\n",
      "\n",
      "A\n",
      "\n",
      "= Perturbed generated text 5 =\n",
      "<|endoftext|>Together, we can end our suffering together, but it takes a village to raise a child.\"\n",
      "\n",
      "This story was written by a former student of the University, and a former member of the University Community. She has a Master's degree in Social Work from the University of Wisconsin.\n",
      "\n",
      "This is an opinion piece.\n",
      "\n"
     ]
    }
   ],
   "source": [
    "%%capture conservative --no-stderr\n",
    "gen_args = {\n",
    "    \"cond_text\": \"Together, we can end\",\n",
    "    \"discrim\": \"generic\",\n",
    "    \"discrim_weights\": \"political_classificationhead_5_0005_160.pt/generic_classifier_head_epoch_5.pt\",\n",
    "    \"discrim_meta\": \"political_classificationhead_5_0005_160.pt/generic_classifier_head_meta.json\",\n",
    "    \"class_label\": \"Conservative\",\n",
    "    \"verbosity\": \"quiet\",\n",
    "    \"num_samples\": 5,\n",
    "    \"stepsize\": 0.008,\n",
    "    \"kl_scale\": 0.1,\n",
    "    \"gm_scale\": 0.8,\n",
    "    \"length\": 60\n",
    "}\n",
    "\n",
    "run_pplm_example(**gen_args)"
   ],
   "metadata": {
    "collapsed": false,
    "pycharm": {
     "name": "#%%\n"
    }
   }
  },
  {
   "cell_type": "code",
   "execution_count": 176,
   "outputs": [
    {
     "name": "stdout",
     "output_type": "stream",
     "text": [
      "= Prefix of sentence =\n",
      "<|endoftext|>Together, we can end\n",
      "\n",
      "= Unperturbed generated text =\n",
      "<|endoftext|>Together, we can end the scourge of sexual harassment and assault on campus, as well as the violence against women at our school and all across the country.\n",
      "\n",
      "As students, we are committed to fighting sexual violence on college campuses.\n",
      "\n",
      "Our campus safety and wellness programs are focused on providing safe and healthy housing for our\n",
      "\n",
      "= Perturbed generated text 1 =\n",
      "<|endoftext|>Together, we can end child abuse. Together, we can end the scourge of child prostitution. Together, we will fight for all children. Let's stop the epidemic of child sex trafficking from occurring in our communities.\n",
      " a. Free child services and child protective services, foster care, juvenile justice programs, child-triage\n",
      "\n",
      "= Perturbed generated text 2 =\n",
      "<|endoftext|>Together, we can end climate change by taking decisive steps to cut carbon pollution from our electricity plants and our transportation systems. We can also reduce emissions from the coal industry by improving the quality of the air we breathe and reduce pollution caused by our waste. And we can reduce emissions from the fossil fuel sector by investing in clean energy\n",
      "\n",
      "= Perturbed generated text 3 =\n",
      "<|endoftext|>Together, we can end this senseless gun violence epidemic in Chicago by ending the gun ban.\n",
      " and we will repeal all laws that allow the gun ban.<|endoftext|>, the world's biggest online book publisher, will release its first-ever book series on September 25, 2014. the series is called, the world's the world\n",
      "\n",
      "= Perturbed generated text 4 =\n",
      "<|endoftext|>Together, we can end this madness!\"\n",
      "I \"What...what is all of this?\"\n",
      "The \"The only thing that we can have to go on is ourselves\"\n",
      "I said \"I'm sorry...\"\n",
      "\"I'm...I'm sorry...I'm\n",
      "\n",
      "= Perturbed generated text 5 =\n",
      "<|endoftext|>Together, we can end our nation's fiscal crises, and create real prosperity and security for all of us. Together, we can stop the cycle of debt that threatens our children, our economy and our future. Together, we can make our economy grow again, and our communities safer.\n",
      "This is the economy, and our\n",
      "\n"
     ]
    }
   ],
   "source": [
    "%%capture liberal --no-stderr\n",
    "gen_args = {\n",
    "    \"cond_text\": \"Together, we can end\",\n",
    "    \"discrim\": \"generic\",\n",
    "    \"discrim_weights\": \"political_classificationhead_5_0005_160.pt/generic_classifier_head_epoch_5.pt\",\n",
    "    \"discrim_meta\": \"political_classificationhead_5_0005_160.pt/generic_classifier_head_meta.json\",\n",
    "    \"class_label\": \"Liberal\",\n",
    "    \"verbosity\": \"quiet\",\n",
    "    \"num_samples\": 5,\n",
    "    \"stepsize\": 0.008,\n",
    "    \"kl_scale\": 0.1,\n",
    "    \"gm_scale\": 0.8,\n",
    "    \"length\": 60\n",
    "}\n",
    "\n",
    "run_pplm_example(**gen_args)"
   ],
   "metadata": {
    "collapsed": false,
    "pycharm": {
     "name": "#%%\n"
    }
   }
  },
  {
   "cell_type": "code",
   "execution_count": 177,
   "outputs": [
    {
     "name": "stdout",
     "output_type": "stream",
     "text": [
      "= Prefix of sentence =\n",
      "<|endoftext|>There is no time to waste when it comes to\n",
      "\n",
      "= Unperturbed generated text =\n",
      "<|endoftext|>There is no time to waste when it comes to making sure your child is getting the best possible nutrition. It is important to get your toddler's daily recommended dose of vitamins, minerals, and nutrients right before bedtime to prevent any adverse health effects. There is also no need to worry about food or drink being spoiled or mislabeled during the night\n",
      "\n",
      "= Perturbed generated text 1 =\n",
      "<|endoftext|>There is no time to waste when it comes to finding the perfect pair. The best pair is one that makes you feel great.\n",
      "I have tried so many different kinds in this area that I have found the perfect match. I have tried on a lot of different colors and I have tried on a lot of different types.\n",
      "I am going to\n",
      "\n",
      "= Perturbed generated text 2 =\n",
      "<|endoftext|>There is no time to waste when it comes to finding a job in the city of Winnipeg.\n",
      " of in a year. 1, 100, 1, 200, and 300, and 1,000. We are the most expensive city in Canada to live in. Winnipeg's economy is growing at a much faster rate than the national economy, and is\n",
      "\n",
      "= Perturbed generated text 3 =\n",
      "<|endoftext|>There is no time to waste when it comes to finding a great apartment. With a range of prices starting from $400 per square metre, you can be sure that you'll find the perfect apartment for your budget.\n",
      "\n",
      "\n",
      " \"\n",
      "\n",
      "\n",
      "\n",
      "\n",
      ", The New York City A New York City Condo Review, A New York City City\n",
      "\n",
      "= Perturbed generated text 4 =\n",
      "<|endoftext|>There is no time to waste when it comes to getting your hands on the latest Apple Watch Sport. Apple has already announced that the new smartwatch is due to go on sale in the UK on September 27th at a cost of £199.99, and is available for preorder from Apple Store UK.\n",
      ", and, the $199.\n",
      "\n",
      "= Perturbed generated text 5 =\n",
      "<|endoftext|>There is no time to waste when it comes to choosing the right laptop.\n",
      "The best, and most cost effective, way to go for your next laptop purchase is with the Dell PowerBook G5, a new Dell laptop that has a new, premium-looking design with Intel Core and quad core chips.\n",
      "Dells is introducing the second generation\n",
      "\n"
     ]
    }
   ],
   "source": [
    "%%capture conservative --no-stderr\n",
    "gen_args = {\n",
    "    \"cond_text\": \"There is no time to waste when it comes to\",\n",
    "    \"discrim\": \"generic\",\n",
    "    \"discrim_weights\": \"political_classificationhead_5_0005_160.pt/generic_classifier_head_epoch_5.pt\",\n",
    "    \"discrim_meta\": \"political_classificationhead_5_0005_160.pt/generic_classifier_head_meta.json\",\n",
    "    \"class_label\": \"Conservative\",\n",
    "    \"verbosity\": \"quiet\",\n",
    "    \"num_samples\": 5,\n",
    "    \"stepsize\": 0.008,\n",
    "    \"kl_scale\": 0.1,\n",
    "    \"gm_scale\": 0.8,\n",
    "    \"length\": 60\n",
    "}\n",
    "\n",
    "run_pplm_example(**gen_args)"
   ],
   "metadata": {
    "collapsed": false,
    "pycharm": {
     "name": "#%%\n"
    }
   }
  },
  {
   "cell_type": "code",
   "execution_count": 178,
   "outputs": [
    {
     "name": "stdout",
     "output_type": "stream",
     "text": [
      "= Prefix of sentence =\n",
      "<|endoftext|>There is no time to waste when it comes to\n",
      "\n",
      "= Unperturbed generated text =\n",
      "<|endoftext|>There is no time to waste when it comes to making sure your child is getting the best possible nutrition. It is important to get your toddler's daily recommended dose of vitamins, minerals, and nutrients right before bedtime to prevent any adverse health effects. There is also no need to worry about food or drink being spoiled or mislabeled during the night\n",
      "\n",
      "= Perturbed generated text 1 =\n",
      "<|endoftext|>There is no time to waste when it comes to finding the perfect pair. The best pair is one that makes you feel comfortable, confident, and beautiful, so why not take advantage of that?<|endoftext|>WASHINGTON — The Obama campaign said Wednesday that Sen.....\n",
      "...\n",
      ".\n",
      "\n",
      ".\n",
      "\n",
      ".\n",
      "\n",
      " is still\n",
      "\n",
      "= Perturbed generated text 2 =\n",
      "<|endoftext|>There is no time to waste when it comes to finding a great place, but if you're looking for a better option for dining out, you can always try an online dining place search. You will definitely find something more suitable for you. You can browse a variety options from a restaurant list to check what options there might be on offer, or just\n",
      "\n",
      "= Perturbed generated text 3 =\n",
      "<|endoftext|>There is no time to waste when it comes to finding out if your child has ADHD or ADHD-like behaviors. Your child must know how to recognize them. It must know how to control them and to manage your child's behavior appropriately. If it doesn, this is a part, a, it may to, you, to be a child to\n",
      "\n",
      "= Perturbed generated text 4 =\n",
      "<|endoftext|>There is no time to waste when it comes to getting your hands on the best in quality coffee on the planet! That's because the World Coffee Exchange, the largest and most trusted coffee exchange in the world, has been working hard to bring you all kinds of great deals on coffee. Now, you'll have plenty of time to do your shopping as\n",
      "\n",
      "= Perturbed generated text 5 =\n",
      "<|endoftext|>There is no time to waste when it comes to choosing the best laptop to fit your needs. We take an extensive look at what we think your personal needs are, then provide you the most suitable laptop, so you can be sure that we'll help you make the best purchase possible.<|endoftext|>A few weeks back we were talking about the importance of having\n",
      "\n"
     ]
    }
   ],
   "source": [
    "%%capture liberal --no-stderr\n",
    "gen_args = {\n",
    "    \"cond_text\": \"There is no time to waste when it comes to\",\n",
    "    \"discrim\": \"generic\",\n",
    "    \"discrim_weights\": \"political_classificationhead_5_0005_160.pt/generic_classifier_head_epoch_5.pt\",\n",
    "    \"discrim_meta\": \"political_classificationhead_5_0005_160.pt/generic_classifier_head_meta.json\",\n",
    "    \"class_label\": \"Liberal\",\n",
    "    \"verbosity\": \"quiet\",\n",
    "    \"num_samples\": 5,\n",
    "    \"stepsize\": 0.008,\n",
    "    \"kl_scale\": 0.1,\n",
    "    \"gm_scale\": 0.8,\n",
    "    \"length\": 60\n",
    "}\n",
    "\n",
    "run_pplm_example(**gen_args)"
   ],
   "metadata": {
    "collapsed": false,
    "pycharm": {
     "name": "#%%\n"
    }
   }
  },
  {
   "cell_type": "code",
   "execution_count": 179,
   "outputs": [
    {
     "name": "stdout",
     "output_type": "stream",
     "text": [
      "= Prefix of sentence =\n",
      "<|endoftext|>We're excited to announce that\n",
      "\n",
      "= Unperturbed generated text =\n",
      "<|endoftext|>We're excited to announce that the next release in our OpenStack ecosystem will be a release candidate (RC) of OpenStack v0.10. We want to make sure that all users are familiar with all of this before the release.\n",
      "\n",
      "We've also released a short video to show you how things are done in our\n",
      "\n",
      "= Perturbed generated text 1 =\n",
      "<|endoftext|>We're excited to announce that our next release is ready for testing. Please check it out!\n",
      "\n",
      "FTTZTZA3AF10F3CZBZ2ZA3T1A1ZB0A1A1A0F3C5SZAZZ2ZA\n",
      "\n",
      "= Perturbed generated text 2 =\n",
      "<|endoftext|>We're excited to announce that in addition the following, the \"C-3\" and \"B-4\" air defence, and other weapons and equipment, will be used to the great advantage of this mission by all parties:\n",
      "C-10-B-3\n",
      "A new, improved version of Canada's C/D\n",
      "\n",
      "= Perturbed generated text 3 =\n",
      "<|endoftext|>We're excited to announce that this year's event will be held during Microsoft's Build 2017 event on June 7-8, 2017 in the Redmond campus.\n",
      "\n",
      " the first three days will be free to attend, \" for everyone with a badge, and \" for anyone with one. \" to attend this year, everyone will be able\n",
      "\n",
      "= Perturbed generated text 4 =\n",
      "<|endoftext|>We're excited to announce that we're teamed---up to- aned the the\n",
      "\n",
      " to now the more\n",
      "\n",
      ", now to get more and more.\n",
      "\n",
      "\n",
      ".\n",
      "\n",
      "\n",
      "Our. We\n",
      "\n",
      ".\n",
      "\n",
      ",\n",
      "\n",
      ".\n",
      "\n",
      "\n",
      ".\n",
      "\n",
      "\n",
      ".\n",
      "\n",
      "\n",
      "\n",
      "\n",
      "= Perturbed generated text 5 =\n",
      "<|endoftext|>We're excited to announce that our next major update to the game will be available this Friday, February 23rd, 2015 at 5pm EST! This is a free patch, and includes bug fixes and other minor improvements. If you've not yet played the game, you can find our previous updates below:\n",
      "You'll need an\n",
      "\n"
     ]
    }
   ],
   "source": [
    "%%capture conservative --no-stderr\n",
    "gen_args = {\n",
    "    \"cond_text\": \"We're excited to announce that\",\n",
    "    \"discrim\": \"generic\",\n",
    "    \"discrim_weights\": \"political_classificationhead_5_0005_160.pt/generic_classifier_head_epoch_5.pt\",\n",
    "    \"discrim_meta\": \"political_classificationhead_5_0005_160.pt/generic_classifier_head_meta.json\",\n",
    "    \"class_label\": \"Conservative\",\n",
    "    \"verbosity\": \"quiet\",\n",
    "    \"num_samples\": 5,\n",
    "    \"stepsize\": 0.008,\n",
    "    \"kl_scale\": 0.1,\n",
    "    \"gm_scale\": 0.8,\n",
    "    \"length\": 60\n",
    "}\n",
    "\n",
    "run_pplm_example(**gen_args)"
   ],
   "metadata": {
    "collapsed": false,
    "pycharm": {
     "name": "#%%\n"
    }
   }
  },
  {
   "cell_type": "code",
   "execution_count": 180,
   "outputs": [
    {
     "name": "stdout",
     "output_type": "stream",
     "text": [
      "= Prefix of sentence =\n",
      "<|endoftext|>We're excited to announce that\n",
      "\n",
      "= Unperturbed generated text =\n",
      "<|endoftext|>We're excited to announce that the next release in our OpenStack ecosystem will be a release candidate (RC) of OpenStack v0.10. We want to make sure that all users are familiar with all of this before the release.\n",
      "\n",
      "We've also released a short video to show you how things are done in our\n",
      "\n",
      "= Perturbed generated text 1 =\n",
      "<|endoftext|>We're excited to announce that our next OpenStack Summit in New York is now live! The Summit will focus primarily around the Open Source movement's efforts in OpenStack and OpenStack infrastructure. The Summit provides a unique platform for OpenStack developers and open infrastructure enthusiasts to meet, work together, and explore different areas within OpenStack.\n",
      "\n",
      "= Perturbed generated text 2 =\n",
      "<|endoftext|>We're excited to announce that in addition to Amazon, you'll be able to buy and sell tickets for our upcoming live streaming concerts at New York City's iconic Webster Hall! You can now buy tickets to our online shows for $20 a pop on a single-day ticket, or $100 for an all-day ticket.\n",
      "\n",
      "= Perturbed generated text 3 =\n",
      "<|endoftext|>We're excited to announce that this year's event will be held at the San Francisco Museum of Modern and Applied Arts, on Saturday, June 14 from 6 – 8 PM at the SFMOMA. This will be a very special and special event as we celebrate our 15th year at the San Francisco Museum of Modern Art!\n",
      "\n",
      "= Perturbed generated text 4 =\n",
      "<|endoftext|>We're excited to announce that we're team members of Google are working on a project called Google Cloud Platform, to deliver the latest cloud computing platform and services. With the cloud, you can get everything you ever wanted on one platform, and with the Google Cloud Platform, it's easy to do so.\n",
      "\n",
      "\n",
      " Google Cloud\n",
      "\n",
      "= Perturbed generated text 5 =\n",
      "<|endoftext|>We're excited to announce that our first OpenStack project, OpenStack Horizon 2.3, has been launched on GitHub! We have a few things to share about this new project, including a brief overview of how we're using it:\n",
      "\n",
      "A couple of course\n",
      "\n",
      "We have already started with a very simple demo project\n",
      "\n"
     ]
    }
   ],
   "source": [
    "%%capture liberal --no-stderr\n",
    "gen_args = {\n",
    "    \"cond_text\": \"We're excited to announce that\",\n",
    "    \"discrim\": \"generic\",\n",
    "    \"discrim_weights\": \"political_classificationhead_5_0005_160.pt/generic_classifier_head_epoch_5.pt\",\n",
    "    \"discrim_meta\": \"political_classificationhead_5_0005_160.pt/generic_classifier_head_meta.json\",\n",
    "    \"class_label\": \"Liberal\",\n",
    "    \"verbosity\": \"quiet\",\n",
    "    \"num_samples\": 5,\n",
    "    \"stepsize\": 0.008,\n",
    "    \"kl_scale\": 0.1,\n",
    "    \"gm_scale\": 0.8,\n",
    "    \"length\": 60\n",
    "}\n",
    "\n",
    "run_pplm_example(**gen_args)"
   ],
   "metadata": {
    "collapsed": false,
    "pycharm": {
     "name": "#%%\n"
    }
   }
  },
  {
   "cell_type": "code",
   "execution_count": 181,
   "outputs": [
    {
     "name": "stdout",
     "output_type": "stream",
     "text": [
      "= Prefix of sentence =\n",
      "<|endoftext|>We have in our hands the ultimate power: the power of the\n",
      "\n",
      "= Unperturbed generated text =\n",
      "<|endoftext|>We have in our hands the ultimate power: the power of the mind.\n",
      "\n",
      "The mind can do anything, as long as it is willing to accept its consequences.\n",
      "\n",
      "The mind is the only thing that can create reality and is capable of destroying it.\n",
      "\n",
      "There's no such thing as free will, no matter what you might think of it.\n",
      "\n",
      "= Perturbed generated text 1 =\n",
      "<|endoftext|>We have in our hands the ultimate power: the power of the free market to create wealth for the masses.\n",
      "\n",
      "This week, we will examine how the free market works: how we can profitably use our money in the future. We'll discuss the basics of how our money works — how it can be invested, what types of investments it can make money\n",
      "\n",
      "= Perturbed generated text 2 =\n",
      "<|endoftext|>We have in our hands the ultimate power: the power of the internet. As an online platform for sharing ideas, experiences and information, the internet is transforming our relationship with technology.\n",
      "IIInAUSA1CZG1DG1Q1Z1ZR1W1HZ1U2J2IY1LX1\n",
      "\n",
      "= Perturbed generated text 3 =\n",
      "<|endoftext|>We have in our hands the ultimate power: the power of the state, combined with the will of the people. The people have decided that the police, which had been the protectors and agents of their oppressors, should not be used anymore.\n",
      "\n",
      "So now, when the state uses the cops to protect the ruling bourgeoisie, and when the state itself acts\n",
      "\n",
      "= Perturbed generated text 4 =\n",
      "<|endoftext|>We have in our hands the ultimate power: the power of the internet and its vast network of people. We have an amazing ability to use these networks to create an entire world, and to share it with anyone around the world at a time that's convenient for everyone, and with no barriers, costs or costs of doing business.\n",
      "In order to create the most\n",
      "\n",
      "= Perturbed generated text 5 =\n",
      "<|endoftext|>We have in our hands the ultimate power: the power of the people!\n",
      "\n",
      "Our goal is to make sure that every voter has the power that comes with having a voice. And with that, we'll take on a new task: We'll take on a new job: to make sure that every American's voice is heard.\n",
      ".<|endoftext|> (..\n",
      "\n"
     ]
    }
   ],
   "source": [
    "%%capture conservative --no-stderr\n",
    "gen_args = {\n",
    "    \"cond_text\": \"We have in our hands the ultimate power: the power of the\",\n",
    "    \"discrim\": \"generic\",\n",
    "    \"discrim_weights\": \"political_classificationhead_5_0005_160.pt/generic_classifier_head_epoch_5.pt\",\n",
    "    \"discrim_meta\": \"political_classificationhead_5_0005_160.pt/generic_classifier_head_meta.json\",\n",
    "    \"class_label\": \"Conservative\",\n",
    "    \"verbosity\": \"quiet\",\n",
    "    \"num_samples\": 5,\n",
    "    \"stepsize\": 0.008,\n",
    "    \"kl_scale\": 0.1,\n",
    "    \"gm_scale\": 0.8,\n",
    "    \"length\": 60\n",
    "}\n",
    "\n",
    "run_pplm_example(**gen_args)"
   ],
   "metadata": {
    "collapsed": false,
    "pycharm": {
     "name": "#%%\n"
    }
   }
  },
  {
   "cell_type": "code",
   "execution_count": 182,
   "outputs": [
    {
     "name": "stdout",
     "output_type": "stream",
     "text": [
      "= Prefix of sentence =\n",
      "<|endoftext|>We have in our hands the ultimate power: the power of the\n",
      "\n",
      "= Unperturbed generated text =\n",
      "<|endoftext|>We have in our hands the ultimate power: the power of the mind.\n",
      "\n",
      "The mind can do anything, as long as it is willing to accept its consequences.\n",
      "\n",
      "The mind is the only thing that can create reality and is capable of destroying it.\n",
      "\n",
      "There's no such thing as free will, no matter what you might think of it.\n",
      "\n",
      "= Perturbed generated text 1 =\n",
      "<|endoftext|>We have in our hands the ultimate power: the power of the imagination. In this way the imagination gives rise to a whole rangeDThisTheL'OSIANDIIiNiIYSAIiYNHASiAASUASIAMiIAASiIADIIiAiASiELA\n",
      "\n",
      "= Perturbed generated text 2 =\n",
      "<|endoftext|>We have in our hands the ultimate power: the power of the internet. As an online company, you have the power of an army of people, who you can reach anywhere in the world, who will act to improve and empower the world's economy and communities.\n",
      ".\n",
      "..\n",
      "\n",
      ".\n",
      "\n",
      "\n",
      "We believe that the internet has been the foundation of our existence\n",
      "\n",
      "= Perturbed generated text 3 =\n",
      "<|endoftext|>We have in our hands the ultimate power: the power of the internet, and we're ready to use it. With our combined resources and experience, we can create a massive database from which we can predict the future of our economy and our lives.\n",
      "...and it will be up to you! We are going for a big leap, and it's up to\n",
      "\n",
      "= Perturbed generated text 4 =\n",
      "<|endoftext|>We have in our hands the ultimate power: the power of the internet and its vast database of information. We have the power of the web, to create the world, to make decisions, share, and engage. And now we have this amazing tool: the power to control people. It's not a question of who can have access to information. It's not\n",
      "\n",
      "= Perturbed generated text 5 =\n",
      "<|endoftext|>We have in our hands the ultimate power: the power of the Internet!\n",
      "\n",
      "Our goal is to make it as easy for you to access information online as possible by providing you with the best possible online content, tools, and tools to make sure that information, knowledge, experiences, and ideas are as accessible and accessible as possible.\n",
      "\n",
      "We've been working\n",
      "\n"
     ]
    }
   ],
   "source": [
    "%%capture liberal --no-stderr\n",
    "gen_args = {\n",
    "    \"cond_text\": \"We have in our hands the ultimate power: the power of the\",\n",
    "    \"discrim\": \"generic\",\n",
    "    \"discrim_weights\": \"political_classificationhead_5_0005_160.pt/generic_classifier_head_epoch_5.pt\",\n",
    "    \"discrim_meta\": \"political_classificationhead_5_0005_160.pt/generic_classifier_head_meta.json\",\n",
    "    \"class_label\": \"Liberal\",\n",
    "    \"verbosity\": \"quiet\",\n",
    "    \"num_samples\": 5,\n",
    "    \"stepsize\": 0.008,\n",
    "    \"kl_scale\": 0.1,\n",
    "    \"gm_scale\": 0.8,\n",
    "    \"length\": 60\n",
    "}\n",
    "\n",
    "run_pplm_example(**gen_args)"
   ],
   "metadata": {
    "collapsed": false,
    "pycharm": {
     "name": "#%%\n"
    }
   }
  },
  {
   "cell_type": "code",
   "execution_count": 183,
   "outputs": [
    {
     "name": "stdout",
     "output_type": "stream",
     "text": [
      "= Prefix of sentence =\n",
      "<|endoftext|>The issues we’re facing are\n",
      "\n",
      "= Unperturbed generated text =\n",
      "<|endoftext|>The issues we’re facing are many:\n",
      "\n",
      "* We need to build a system that is fair and accountable\n",
      "\n",
      "* We need a system to help the poor, disabled, undocumented people that we're not currently serving\n",
      "\n",
      "* We need to build an economy that is fair and accountable\n",
      "\n",
      "* We need to make sure\n",
      "\n",
      "= Perturbed generated text 1 =\n",
      "<|endoftext|>The issues we’re facing are real. In my opinion the best way to address them is to take action.\n",
      "\n",
      "1. Get to the root cause of the problem.\n",
      "AIWATheH1AA1S.I.A isA,, the III,.A is IIA\n",
      "\n",
      "= Perturbed generated text 2 =\n",
      "<|endoftext|>The issues we’re facing are so severe that they require the mobilization of all of us in an effort to solve the challenges. We have no choice but to work together and act to bring them to the forefront of the public debate.\n",
      "Posted by Mike W. at 9:00 AM<|endoftext|>It wasn't the only one of his\n",
      "\n",
      "= Perturbed generated text 3 =\n",
      "<|endoftext|>The issues we’re facing are complex, but we‏need to do something about them.\n",
      "Thearetheinvisibleandwewanttomaketherightwayfromthisday‭\n",
      "For awhile,we‏have been,andare,andareon.It is,but,but,but there�\n",
      "\n",
      "= Perturbed generated text 4 =\n",
      "<|endoftext|>The issues we’re facing are serious and deserve our attention. The issues are:\n",
      "The first issue is that the Federal Government is not doing enough to combat climate change and is ignoring the scientific evidence.\n",
      "It's a big issue, and it is a big problem. But let's not forget, it is the biggest issue in\n",
      "\n",
      "= Perturbed generated text 5 =\n",
      "<|endoftext|>The issues we’re facing are not simply about how to make a profit, but how to make a difference. In the last year, we have seen the emergence of a new generation of entrepreneurs who believe we have a chance to help build a better world. We've seen the emergence of a new generation of activists who recognize the urgent\n",
      "\n"
     ]
    }
   ],
   "source": [
    "%%capture conservative --no-stderr\n",
    "gen_args = {\n",
    "    \"cond_text\": \"The issues we’re facing are\",\n",
    "    \"discrim\": \"generic\",\n",
    "    \"discrim_weights\": \"political_classificationhead_5_0005_160.pt/generic_classifier_head_epoch_5.pt\",\n",
    "    \"discrim_meta\": \"political_classificationhead_5_0005_160.pt/generic_classifier_head_meta.json\",\n",
    "    \"class_label\": \"Conservative\",\n",
    "    \"verbosity\": \"quiet\",\n",
    "    \"num_samples\": 5,\n",
    "    \"stepsize\": 0.008,\n",
    "    \"kl_scale\": 0.1,\n",
    "    \"gm_scale\": 0.8,\n",
    "    \"length\": 60\n",
    "}\n",
    "\n",
    "run_pplm_example(**gen_args)"
   ],
   "metadata": {
    "collapsed": false,
    "pycharm": {
     "name": "#%%\n"
    }
   }
  },
  {
   "cell_type": "code",
   "execution_count": 184,
   "outputs": [
    {
     "name": "stdout",
     "output_type": "stream",
     "text": [
      "= Prefix of sentence =\n",
      "<|endoftext|>The issues we’re facing are\n",
      "\n",
      "= Unperturbed generated text =\n",
      "<|endoftext|>The issues we’re facing are many:\n",
      "\n",
      "* We need to build a system that is fair and accountable\n",
      "\n",
      "* We need a system to help the poor, disabled, undocumented people that we're not currently serving\n",
      "\n",
      "* We need to build an economy that is fair and accountable\n",
      "\n",
      "* We need to make sure\n",
      "\n",
      "= Perturbed generated text 1 =\n",
      "<|endoftext|>The issues we’re facing are real and need solutions. The solution to the problems that we’re facing is simple: we’have to take responsibility. We have no other option. The only choice we can offer you ‪is‬one that will‪bring about an environment where you‪can�\n",
      "\n",
      "= Perturbed generated text 2 =\n",
      "<|endoftext|>The issues we’re facing are complex and evolving. I'm going to tell you how I’ve been’fighting them‖.\n",
      "I‖ve spent years on the front lines of the issue of racial profiling and racial injustice on campus. My name is Michael Brown, I am black, and I am a\n",
      "\n",
      "= Perturbed generated text 3 =\n",
      "<|endoftext|>The issues we’re facing are complex, but we‏need‒ to get our act in gear’in order to protect the American people‖from this attack on our constitutional rights.\n",
      "\n",
      ", \" a more the more and, the \" a the last one and the \" we have a \" \" to the right\n",
      "\n",
      "= Perturbed generated text 4 =\n",
      "<|endoftext|>The issues we’re facing are complex and we―re working very hard on our solutions.\n",
      "\n",
      "‪I would like to thank our customers ‪for their feedback during our first month. I know that's been overwhelming, and I know we‭'re going to hear from you again‬‬ as\n",
      "\n",
      "= Perturbed generated text 5 =\n",
      "<|endoftext|>The issues we’re facing are serious, urgent, and, if not addressed today, we will face them tomorrow, for generations to come.\n",
      "\n",
      "We need the federal government to take action in the most direct way possible to help us get our lives under the new tax system.\n",
      " up to 20 percent. (...\n",
      "\n"
     ]
    }
   ],
   "source": [
    "%%capture liberal --no-stderr\n",
    "gen_args = {\n",
    "    \"cond_text\": \"The issues we’re facing are\",\n",
    "    \"discrim\": \"generic\",\n",
    "    \"discrim_weights\": \"political_classificationhead_5_0005_160.pt/generic_classifier_head_epoch_5.pt\",\n",
    "    \"discrim_meta\": \"political_classificationhead_5_0005_160.pt/generic_classifier_head_meta.json\",\n",
    "    \"class_label\": \"Liberal\",\n",
    "    \"verbosity\": \"quiet\",\n",
    "    \"num_samples\": 5,\n",
    "    \"stepsize\": 0.008,\n",
    "    \"kl_scale\": 0.1,\n",
    "    \"gm_scale\": 0.8,\n",
    "    \"length\": 60\n",
    "}\n",
    "\n",
    "run_pplm_example(**gen_args)"
   ],
   "metadata": {
    "collapsed": false,
    "pycharm": {
     "name": "#%%\n"
    }
   }
  },
  {
   "cell_type": "code",
   "execution_count": 185,
   "outputs": [
    {
     "name": "stdout",
     "output_type": "stream",
     "text": [
      "= Prefix of sentence =\n",
      "<|endoftext|>The character of our nation is\n",
      "\n",
      "= Unperturbed generated text =\n",
      "<|endoftext|>The character of our nation is defined by the ideals that inspire us to pursue justice, tolerance, and respect for all of our fellow Americans. These values, and their application to our nation, are not merely a reflection of our country's history or heritage. Instead, they form our bedrock of principles that have defined and shaped our nation\n",
      "\n",
      "= Perturbed generated text 1 =\n",
      "<|endoftext|>The character of our nation is in jeopardy. It is the greatest threat to our democracy in the history, since. The, and, we are, in the, history, as the greatest threat to our democracy and our freedom, our Constitution.\n",
      "\n",
      "\n",
      "We have, the greatest threat, to our Constitution, since the founding\n",
      "\n",
      "= Perturbed generated text 2 =\n",
      "<|endoftext|>The character of our nation is in danger. A nation is in peril because of an unwise and destructive foreign interventionist policy that is weakening our economy.\n",
      "In our own country, the threat of terrorism is a daily reality. The recent events on September the 11th demonstrate once again the need for an effective foreign policy directed at\n",
      "\n",
      "= Perturbed generated text 3 =\n",
      "<|endoftext|>The character of our nation is based, as I mentioned before, upon the character of our fathers and mothers — the people who brought up the American people to become the great powers of their time — the people who came before us with their ideals, their hopes, and their aspirations. Our fathers came here, and our mother and grandparents\n",
      "\n",
      "= Perturbed generated text 4 =\n",
      "<|endoftext|>The character of our nation is defined by its tolerance, not its bigotry, and in an era of increasingly violent rhetoric, the United States of our country seems more and more like a place where you don no have a lot of people out of any kind to speak of being a racist because of one, because of the way, as\n",
      "\n",
      "= Perturbed generated text 5 =\n",
      "<|endoftext|>The character of our nation is a reflection of how we choose to live, and that choice should not be changed without a fight. That fight should come with a price, and we must all bear it.\"\n",
      "... The character of our nation is a reflection of our choice. That choice should not be changed without a fight\n",
      "\n"
     ]
    }
   ],
   "source": [
    "%%capture conservative --no-stderr\n",
    "gen_args = {\n",
    "    \"cond_text\": \"The character of our nation is\",\n",
    "    \"discrim\": \"generic\",\n",
    "    \"discrim_weights\": \"political_classificationhead_5_0005_160.pt/generic_classifier_head_epoch_5.pt\",\n",
    "    \"discrim_meta\": \"political_classificationhead_5_0005_160.pt/generic_classifier_head_meta.json\",\n",
    "    \"class_label\": \"Conservative\",\n",
    "    \"verbosity\": \"quiet\",\n",
    "    \"num_samples\": 5,\n",
    "    \"stepsize\": 0.008,\n",
    "    \"kl_scale\": 0.1,\n",
    "    \"gm_scale\": 0.8,\n",
    "    \"length\": 60\n",
    "}\n",
    "\n",
    "run_pplm_example(**gen_args)"
   ],
   "metadata": {
    "collapsed": false,
    "pycharm": {
     "name": "#%%\n"
    }
   }
  },
  {
   "cell_type": "code",
   "execution_count": 186,
   "outputs": [
    {
     "name": "stdout",
     "output_type": "stream",
     "text": [
      "= Prefix of sentence =\n",
      "<|endoftext|>The character of our nation is\n",
      "\n",
      "= Unperturbed generated text =\n",
      "<|endoftext|>The character of our nation is defined by the ideals that inspire us to pursue justice, tolerance, and respect for all of our fellow Americans. These values, and their application to our nation, are not merely a reflection of our country's history or heritage. Instead, they form our bedrock of principles that have defined and shaped our nation\n",
      "\n",
      "= Perturbed generated text 1 =\n",
      "<|endoftext|>The character of our nation is based upon the principles that underlie our Constitution and laws. The Declaration of Causes is one of these principles. In its declaration we affirm that the principles underlying the Constitution are the best means of securing a just, equal and democratic society. This principle is the fundamental foundation of our Constitution. It is the\n",
      "\n",
      "= Perturbed generated text 2 =\n",
      "<|endoftext|>The character of our nation is in danger. The people are becoming increasingly alienated, disillusionment with the system and society is at an all-encometments and a whole lot of them are in danger of the same old, same old.\n",
      "\n",
      "And it is not just that the old ways of life are dying out.\n",
      "\n",
      "= Perturbed generated text 3 =\n",
      "<|endoftext|>The character of our nation is based, ultimately, on our history, our values, our institutions, and our people, all of whom have been molded by the struggle between the British and our nation in the nineteenth century. The American character is, by nature, the product of that which is built upon and maintained by the people that\n",
      "\n",
      "= Perturbed generated text 4 =\n",
      "<|endoftext|>The character of our nation is defined by its commitment to freedom, justice, democracy, human dignity, tolerance, pluralism, and respect. This is an important theme and an integral part in our national identity.\n",
      "\n",
      "We are committed to building an enduring, enduring, enduring relationship with one another, especially in the areas of justice\n",
      "\n",
      "= Perturbed generated text 5 =\n",
      "<|endoftext|>The character of our nation is a reflection of how much it values liberty. But that's what America is today, a nation of laws rather. And the people of a free nation, I would say we have to take it a step further by taking it a step further than what we have done.\n",
      "\n",
      "\n",
      "The\n",
      "\n",
      "\n",
      "\n"
     ]
    }
   ],
   "source": [
    "%%capture liberal --no-stderr\n",
    "gen_args = {\n",
    "    \"cond_text\": \"The character of our nation is\",\n",
    "    \"discrim\": \"generic\",\n",
    "    \"discrim_weights\": \"political_classificationhead_5_0005_160.pt/generic_classifier_head_epoch_5.pt\",\n",
    "    \"discrim_meta\": \"political_classificationhead_5_0005_160.pt/generic_classifier_head_meta.json\",\n",
    "    \"class_label\": \"Liberal\",\n",
    "    \"verbosity\": \"quiet\",\n",
    "    \"num_samples\": 5,\n",
    "    \"stepsize\": 0.008,\n",
    "    \"kl_scale\": 0.1,\n",
    "    \"gm_scale\": 0.8,\n",
    "    \"length\": 60\n",
    "}\n",
    "\n",
    "run_pplm_example(**gen_args)"
   ],
   "metadata": {
    "collapsed": false,
    "pycharm": {
     "name": "#%%\n"
    }
   }
  },
  {
   "cell_type": "code",
   "execution_count": 187,
   "outputs": [
    {
     "name": "stdout",
     "output_type": "stream",
     "text": [
      "= Prefix of sentence =\n",
      "<|endoftext|>We can and will solve the\n",
      "\n",
      "= Unperturbed generated text =\n",
      "<|endoftext|>We can and will solve the problem of the 'in-between' in the next few months. But we need to do it in a way that is both practical and ethical. This means that we need to stop trying to fix problems for the benefit of the future, and instead focus on solving real and lasting problems in current and\n",
      "\n",
      "= Perturbed generated text 1 =\n",
      "<|endoftext|>We can and will solve the problem of the human mind in the following ways.\n",
      "\n",
      "First, we should understand how the mind works. In a way, the mind is a machine. The brain operates by means of electrical impulses that are sent to other parts of our brain via nerve signals.\n",
      "\n",
      "If you don your computer\n",
      "\n",
      "= Perturbed generated text 2 =\n",
      "<|endoftext|>We can and will solve the problem of our times, by building an infrastructure that makes it easy and efficient to create digital products that empower people to create.\n",
      "In our current era of digital transformation, we need a new way to build a better world. And it starts with a new idea.<|endoftext|>I'm a little bit of\n",
      "\n",
      "= Perturbed generated text 3 =\n",
      "<|endoftext|>We can and will solve the problem, but we will never be happy until we get our hands on all the data, all the data that we could possibly collect about this situation and figure out how to use it.\n",
      "\n",
      "So please keep asking questions and don, and thank you for your patience\n",
      "\n",
      "-Brett\n",
      "\n",
      "\n",
      "\n",
      "= Perturbed generated text 4 =\n",
      "<|endoftext|>We can and will solve the problem, but it's not going to be easy.\n",
      "The reason is that the way the system works is very much like a human brain. There's a set amount of memory that's available to us and then there's something called a \"memory bank\" that is a very large amount of memory\n",
      "\n",
      "= Perturbed generated text 5 =\n",
      "<|endoftext|>We can and will solve the problem of the \"doomed nation\" of the \"doomed people\" with \"the power to create, to change, to improve, and to create again.\"\n",
      "\n",
      "The problem, of course, is that we cannot and will do that.\n",
      "This is a very serious problem.\n",
      "\n"
     ]
    }
   ],
   "source": [
    "%%capture conservative --no-stderr\n",
    "gen_args = {\n",
    "    \"cond_text\": \"We can and will solve the\",\n",
    "    \"discrim\": \"generic\",\n",
    "    \"discrim_weights\": \"political_classificationhead_5_0005_160.pt/generic_classifier_head_epoch_5.pt\",\n",
    "    \"discrim_meta\": \"political_classificationhead_5_0005_160.pt/generic_classifier_head_meta.json\",\n",
    "    \"class_label\": \"Conservative\",\n",
    "    \"verbosity\": \"quiet\",\n",
    "    \"num_samples\": 5,\n",
    "    \"stepsize\": 0.008,\n",
    "    \"kl_scale\": 0.1,\n",
    "    \"gm_scale\": 0.8,\n",
    "    \"length\": 60\n",
    "}\n",
    "\n",
    "run_pplm_example(**gen_args)"
   ],
   "metadata": {
    "collapsed": false,
    "pycharm": {
     "name": "#%%\n"
    }
   }
  },
  {
   "cell_type": "code",
   "execution_count": 188,
   "outputs": [
    {
     "name": "stdout",
     "output_type": "stream",
     "text": [
      "= Prefix of sentence =\n",
      "<|endoftext|>We can and will solve the\n",
      "\n",
      "= Unperturbed generated text =\n",
      "<|endoftext|>We can and will solve the problem of the 'in-between' in the next few months. But we need to do it in a way that is both practical and ethical. This means that we need to stop trying to fix problems for the benefit of the future, and instead focus on solving real and lasting problems in current and\n",
      "\n",
      "= Perturbed generated text 1 =\n",
      "<|endoftext|>We can and will solve the problem with better technology. The problem with the Internet is that it's a network. The network is not a computer, and the Internet has many problems in it from security issues, to slow speeds, to lack of transparency about what's going to happen. But what we can do is make sure that\n",
      "\n",
      "= Perturbed generated text 2 =\n",
      "<|endoftext|>We can and will solve the problem of high cost, low quality solar systems, which in turn will lead to more efficient power generation and less carbon emissions.\n",
      "In our solar power systems, we will build an integrated solar energy generation system, that is a system that uses all of the energy from the sun in one system for a\n",
      "\n",
      "= Perturbed generated text 3 =\n",
      "<|endoftext|>We can and will solve the world, but we cannot solve all problems, or even solve the vast majority. The question of who should be president is not so much about the best of our nation's qualities, or its strengths, or our ability to solve problems, but it is about the ability of a nation to create jobs,\n",
      "\n",
      "= Perturbed generated text 4 =\n",
      "<|endoftext|>We can and will solve the global warming crisis. We can do so with a smart, efficient, and clean energy source that is safe to use and that will keep us safe for many decades to come.\"<|endoftext|>This story originally appeared in the June 2017 edition, 2017, issue of the American Anthropologist.\n",
      "\n",
      "We have been\n",
      "\n",
      "= Perturbed generated text 5 =\n",
      "<|endoftext|>We can and will solve the problem of the declining birthrate. But, to do that, we must do what the rest of the century has proven to be very, very difficult, and in particular, it is a struggle to achieve the demographic balance that we need and the necessary balance.\n",
      "\n",
      "This is an edited extract.\n",
      "\n"
     ]
    }
   ],
   "source": [
    "%%capture liberal --no-stderr\n",
    "gen_args = {\n",
    "    \"cond_text\": \"We can and will solve the\",\n",
    "    \"discrim\": \"generic\",\n",
    "    \"discrim_weights\": \"political_classificationhead_5_0005_160.pt/generic_classifier_head_epoch_5.pt\",\n",
    "    \"discrim_meta\": \"political_classificationhead_5_0005_160.pt/generic_classifier_head_meta.json\",\n",
    "    \"class_label\": \"Liberal\",\n",
    "    \"verbosity\": \"quiet\",\n",
    "    \"num_samples\": 5,\n",
    "    \"stepsize\": 0.008,\n",
    "    \"kl_scale\": 0.1,\n",
    "    \"gm_scale\": 0.8,\n",
    "    \"length\": 60\n",
    "}\n",
    "\n",
    "run_pplm_example(**gen_args)"
   ],
   "metadata": {
    "collapsed": false,
    "pycharm": {
     "name": "#%%\n"
    }
   }
  },
  {
   "cell_type": "code",
   "execution_count": 189,
   "outputs": [
    {
     "name": "stdout",
     "output_type": "stream",
     "text": [
      "= Prefix of sentence =\n",
      "<|endoftext|>The hard truth is that\n",
      "\n",
      "= Unperturbed generated text =\n",
      "<|endoftext|>The hard truth is that it can be hard to understand what your body wants. It is hard to see what is really going on inside your heart, and even harder to get the answers that you need from someone who knows your heart.\n",
      "\n",
      "I'm here to tell you that I know what's going on in your heart\n",
      "\n",
      "= Perturbed generated text 1 =\n",
      "<|endoftext|>The hard truth is that there is no way that the U.S. can win the war against terrorism without first winning hearts and minds around, in the U. and a group the world has not a few of the world's great \"fant-t-wresto\" is a man in the United States of\n",
      "\n",
      "= Perturbed generated text 2 =\n",
      "<|endoftext|>The hard truth is that the U.S. is going to have to deal with an economic slowdown and a decline in manufacturing jobs in the coming years, and there won and and and. the......\n",
      "\n",
      "\n",
      ".\n",
      ".\n",
      "\n",
      "\n",
      ",\n",
      "\n",
      ".\n",
      " the the the the the the\n",
      "\n",
      "= Perturbed generated text 3 =\n",
      "<|endoftext|>The hard truth is that the vast majority of people who are not in the military, do have some experience of war (or any other sort of conflict, for this is an actual, not a dream, reality, a very real and very serious threat to the survival of our nation, to our nation, our economy and to\n",
      "\n",
      "= Perturbed generated text 4 =\n",
      "<|endoftext|>The hard truth is that we're not all that smart. And when it is that one on on, the, the, the, the, the, the, the, the, the, the, the, the, the, the, the, the, the, the, the, the, the, the,\n",
      "\n",
      "= Perturbed generated text 5 =\n",
      "<|endoftext|>The hard truth is that the world is not as it appears: it is far from what is supposed to be.\n",
      "\n",
      "As a matter of the last several decades, we, as a population, have been subjected to a dramatic shift in cultural values. The idea that we are all equal. There is no such thing as\n",
      "\n"
     ]
    }
   ],
   "source": [
    "%%capture conservative --no-stderr\n",
    "gen_args = {\n",
    "    \"cond_text\": \"The hard truth is that\",\n",
    "    \"discrim\": \"generic\",\n",
    "    \"discrim_weights\": \"political_classificationhead_5_0005_160.pt/generic_classifier_head_epoch_5.pt\",\n",
    "    \"discrim_meta\": \"political_classificationhead_5_0005_160.pt/generic_classifier_head_meta.json\",\n",
    "    \"class_label\": \"Conservative\",\n",
    "    \"verbosity\": \"quiet\",\n",
    "    \"num_samples\": 5,\n",
    "    \"stepsize\": 0.008,\n",
    "    \"kl_scale\": 0.1,\n",
    "    \"gm_scale\": 0.8,\n",
    "    \"length\": 60\n",
    "}\n",
    "\n",
    "run_pplm_example(**gen_args)"
   ],
   "metadata": {
    "collapsed": false,
    "pycharm": {
     "name": "#%%\n"
    }
   }
  },
  {
   "cell_type": "code",
   "execution_count": 190,
   "outputs": [
    {
     "name": "stdout",
     "output_type": "stream",
     "text": [
      "= Prefix of sentence =\n",
      "<|endoftext|>The hard truth is that\n",
      "\n",
      "= Unperturbed generated text =\n",
      "<|endoftext|>The hard truth is that it can be hard to understand what your body wants. It is hard to see what is really going on inside your heart, and even harder to get the answers that you need from someone who knows your heart.\n",
      "\n",
      "I'm here to tell you that I know what's going on in your heart\n",
      "\n",
      "= Perturbed generated text 1 =\n",
      "<|endoftext|>The hard truth is that there is no silver lining in the current economic downturn. The U of M has already lost $3,000,000 in real property value since 2008. That's about $10 per resident, according to the city.\n",
      "\n",
      "\"I don..,,,.\n",
      ". I. The\n",
      "\n",
      "= Perturbed generated text 2 =\n",
      "<|endoftext|>The hard truth is that the NFL is going to make a few changes to how it's running games and the draft. There are a lot of unknowns and there are a lot of unknowns that the league doesn,, that a one on a a, one,, that, a of one on one,, in\n",
      "\n",
      "= Perturbed generated text 3 =\n",
      "<|endoftext|>The hard truth is that the vast majority are either not in the top 20, not anywhere near the top 20, or are not in the top 20. And this is what really makes the numbers so interesting.\n",
      "\n",
      "So why do they exist? Well, they are designed for a certain set of people – namely the ones\n",
      "\n",
      "= Perturbed generated text 4 =\n",
      "<|endoftext|>The hard truth is that we're not all that smart. And when it comes to our brains, we're not exactly blessed with the best possible brains.\n",
      "We know that our brains can be damaged and that we can get sick and develop problems. But we're also aware that many things we learn about the way the brain\n",
      "\n",
      "= Perturbed generated text 5 =\n",
      "<|endoftext|>The hard truth is that the world is not as it appears: it's not perfect, and we're not quite there yet on the way to achieving full human happiness. That, of the only other thing I'm not a big-hearted, self-hating white guy.\n",
      "\n",
      "This is the truth.\n",
      "The\n",
      "\n"
     ]
    }
   ],
   "source": [
    "%%capture liberal --no-stderr\n",
    "gen_args = {\n",
    "    \"cond_text\": \"The hard truth is that\",\n",
    "    \"discrim\": \"generic\",\n",
    "    \"discrim_weights\": \"political_classificationhead_5_0005_160.pt/generic_classifier_head_epoch_5.pt\",\n",
    "    \"discrim_meta\": \"political_classificationhead_5_0005_160.pt/generic_classifier_head_meta.json\",\n",
    "    \"class_label\": \"Liberal\",\n",
    "    \"verbosity\": \"quiet\",\n",
    "    \"num_samples\": 5,\n",
    "    \"stepsize\": 0.008,\n",
    "    \"kl_scale\": 0.1,\n",
    "    \"gm_scale\": 0.8,\n",
    "    \"length\": 60\n",
    "}\n",
    "\n",
    "run_pplm_example(**gen_args)"
   ],
   "metadata": {
    "collapsed": false,
    "pycharm": {
     "name": "#%%\n"
    }
   }
  },
  {
   "cell_type": "code",
   "execution_count": null,
   "outputs": [],
   "source": [
    "with open('conservative.txt', 'w') as file:\n",
    "    file.write(str(conservative))"
   ],
   "metadata": {
    "collapsed": false,
    "pycharm": {
     "name": "#%%\n"
    }
   }
  },
  {
   "cell_type": "code",
   "execution_count": null,
   "outputs": [],
   "source": [
    "with open('liberal.txt', 'w') as file:\n",
    "    file.write(str(liberal))"
   ],
   "metadata": {
    "collapsed": false,
    "pycharm": {
     "name": "#%%\n"
    }
   }
  }
 ],
 "metadata": {
  "kernelspec": {
   "display_name": "Python 3",
   "language": "python",
   "name": "python3"
  },
  "language_info": {
   "codemirror_mode": {
    "name": "ipython",
    "version": 2
   },
   "file_extension": ".py",
   "mimetype": "text/x-python",
   "name": "python",
   "nbconvert_exporter": "python",
   "pygments_lexer": "ipython2",
   "version": "2.7.6"
  }
 },
 "nbformat": 4,
 "nbformat_minor": 0
}